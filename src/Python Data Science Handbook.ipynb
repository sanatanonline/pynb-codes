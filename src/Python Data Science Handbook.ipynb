{
 "cells": [
  {
   "cell_type": "code",
   "execution_count": 1,
   "metadata": {},
   "outputs": [],
   "source": [
    "import numpy as np"
   ]
  },
  {
   "cell_type": "code",
   "execution_count": 6,
   "metadata": {},
   "outputs": [],
   "source": [
    "np.random.seed(0) # seed for reproducibility\n",
    "x1 = np.random.randint(10, size=6) # One-dimensional array\n",
    "x2 = np.random.randint(10, size=(3, 4)) # Two-dimensional array\n",
    "x3 = np.random.randint(10, size=(3, 4, 5)) # Three-dimensional array\n",
    "x4 = np.random.randint(10, size=(3, 4, 5, 6)) # Four-dimensional array"
   ]
  },
  {
   "cell_type": "code",
   "execution_count": 3,
   "metadata": {},
   "outputs": [
    {
     "name": "stdout",
     "output_type": "stream",
     "text": [
      "x3 ndim:  3\n",
      "x3 shape: (3, 4, 5)\n",
      "x3 size:  60\n"
     ]
    }
   ],
   "source": [
    "print(\"x3 ndim: \", x3.ndim)\n",
    "print(\"x3 shape:\", x3.shape)\n",
    "print(\"x3 size: \", x3.size)"
   ]
  },
  {
   "cell_type": "code",
   "execution_count": 7,
   "metadata": {},
   "outputs": [
    {
     "data": {
      "text/plain": [
       "array([5, 0, 3, 3, 7, 9])"
      ]
     },
     "execution_count": 7,
     "metadata": {},
     "output_type": "execute_result"
    }
   ],
   "source": [
    "x1"
   ]
  },
  {
   "cell_type": "code",
   "execution_count": 9,
   "metadata": {},
   "outputs": [
    {
     "data": {
      "text/plain": [
       "array([[3, 5, 2, 4],\n",
       "       [7, 6, 8, 8],\n",
       "       [1, 6, 7, 7]])"
      ]
     },
     "execution_count": 9,
     "metadata": {},
     "output_type": "execute_result"
    }
   ],
   "source": [
    "x2"
   ]
  },
  {
   "cell_type": "code",
   "execution_count": 10,
   "metadata": {},
   "outputs": [
    {
     "data": {
      "text/plain": [
       "array([[[8, 1, 5, 9, 8],\n",
       "        [9, 4, 3, 0, 3],\n",
       "        [5, 0, 2, 3, 8],\n",
       "        [1, 3, 3, 3, 7]],\n",
       "\n",
       "       [[0, 1, 9, 9, 0],\n",
       "        [4, 7, 3, 2, 7],\n",
       "        [2, 0, 0, 4, 5],\n",
       "        [5, 6, 8, 4, 1]],\n",
       "\n",
       "       [[4, 9, 8, 1, 1],\n",
       "        [7, 9, 9, 3, 6],\n",
       "        [7, 2, 0, 3, 5],\n",
       "        [9, 4, 4, 6, 4]]])"
      ]
     },
     "execution_count": 10,
     "metadata": {},
     "output_type": "execute_result"
    }
   ],
   "source": [
    "x3"
   ]
  },
  {
   "cell_type": "code",
   "execution_count": 11,
   "metadata": {},
   "outputs": [
    {
     "data": {
      "text/plain": [
       "array([[[[4, 3, 4, 4, 8, 4],\n",
       "         [3, 7, 5, 5, 0, 1],\n",
       "         [5, 9, 3, 0, 5, 0],\n",
       "         [1, 2, 4, 2, 0, 3],\n",
       "         [2, 0, 7, 5, 9, 0]],\n",
       "\n",
       "        [[2, 7, 2, 9, 2, 3],\n",
       "         [3, 2, 3, 4, 1, 2],\n",
       "         [9, 1, 4, 6, 8, 2],\n",
       "         [3, 0, 0, 6, 0, 6],\n",
       "         [3, 3, 8, 8, 8, 2]],\n",
       "\n",
       "        [[3, 2, 0, 8, 8, 3],\n",
       "         [8, 2, 8, 4, 3, 0],\n",
       "         [4, 3, 6, 9, 8, 0],\n",
       "         [8, 5, 9, 0, 9, 6],\n",
       "         [5, 3, 1, 8, 0, 4]],\n",
       "\n",
       "        [[9, 6, 5, 7, 8, 8],\n",
       "         [9, 2, 8, 6, 6, 9],\n",
       "         [1, 6, 8, 8, 3, 2],\n",
       "         [3, 6, 3, 6, 5, 7],\n",
       "         [0, 8, 4, 6, 5, 8]]],\n",
       "\n",
       "\n",
       "       [[[2, 3, 9, 7, 5, 3],\n",
       "         [4, 5, 3, 3, 7, 9],\n",
       "         [9, 9, 7, 3, 2, 3],\n",
       "         [9, 7, 7, 5, 1, 2],\n",
       "         [2, 8, 1, 5, 8, 4]],\n",
       "\n",
       "        [[0, 2, 5, 5, 0, 8],\n",
       "         [1, 1, 0, 3, 8, 8],\n",
       "         [4, 4, 0, 9, 3, 7],\n",
       "         [3, 2, 1, 1, 2, 1],\n",
       "         [4, 2, 5, 5, 5, 2]],\n",
       "\n",
       "        [[5, 7, 7, 6, 1, 6],\n",
       "         [7, 2, 3, 1, 9, 5],\n",
       "         [9, 9, 2, 0, 9, 1],\n",
       "         [9, 0, 6, 0, 4, 8],\n",
       "         [4, 3, 3, 8, 8, 7]],\n",
       "\n",
       "        [[0, 3, 8, 7, 7, 1],\n",
       "         [8, 4, 7, 0, 4, 9],\n",
       "         [0, 6, 4, 2, 4, 6],\n",
       "         [3, 3, 7, 8, 5, 0],\n",
       "         [8, 5, 4, 7, 4, 1]]],\n",
       "\n",
       "\n",
       "       [[[3, 3, 9, 2, 5, 2],\n",
       "         [3, 5, 7, 2, 7, 1],\n",
       "         [6, 5, 0, 0, 3, 1],\n",
       "         [9, 9, 6, 6, 7, 8],\n",
       "         [8, 7, 0, 8, 6, 8]],\n",
       "\n",
       "        [[9, 8, 3, 6, 1, 7],\n",
       "         [4, 9, 2, 0, 8, 2],\n",
       "         [7, 8, 4, 4, 1, 7],\n",
       "         [6, 9, 4, 1, 5, 9],\n",
       "         [7, 1, 3, 5, 7, 3]],\n",
       "\n",
       "        [[6, 6, 7, 9, 1, 9],\n",
       "         [6, 0, 3, 8, 4, 1],\n",
       "         [4, 5, 0, 3, 1, 4],\n",
       "         [4, 4, 0, 0, 8, 4],\n",
       "         [6, 9, 3, 3, 2, 1]],\n",
       "\n",
       "        [[2, 1, 3, 4, 1, 1],\n",
       "         [0, 7, 8, 4, 3, 5],\n",
       "         [6, 3, 2, 9, 8, 1],\n",
       "         [4, 0, 8, 3, 9, 5],\n",
       "         [5, 1, 7, 8, 6, 4]]]])"
      ]
     },
     "execution_count": 11,
     "metadata": {},
     "output_type": "execute_result"
    }
   ],
   "source": [
    "x4"
   ]
  },
  {
   "cell_type": "code",
   "execution_count": 12,
   "metadata": {},
   "outputs": [
    {
     "name": "stdout",
     "output_type": "stream",
     "text": [
      "x4 ndim:  4\n",
      "x4 shape: (3, 4, 5, 6)\n",
      "x4 size:  360\n"
     ]
    }
   ],
   "source": [
    "print(\"x4 ndim: \", x4.ndim)\n",
    "print(\"x4 shape:\", x4.shape)\n",
    "print(\"x4 size: \", x4.size)"
   ]
  },
  {
   "cell_type": "code",
   "execution_count": null,
   "metadata": {},
   "outputs": [],
   "source": []
  }
 ],
 "metadata": {
  "kernelspec": {
   "display_name": "Python 3",
   "language": "python",
   "name": "python3"
  },
  "language_info": {
   "codemirror_mode": {
    "name": "ipython",
    "version": 3
   },
   "file_extension": ".py",
   "mimetype": "text/x-python",
   "name": "python",
   "nbconvert_exporter": "python",
   "pygments_lexer": "ipython3",
   "version": "3.6.8"
  }
 },
 "nbformat": 4,
 "nbformat_minor": 2
}
