{
 "cells": [
  {
   "cell_type": "markdown",
   "metadata": {
    "slideshow": {
     "slide_type": "slide"
    }
   },
   "source": [
    "<h1 align=\"center\"> Statistical Learning of the Lending Club Loans </h1>\n",
    "<h4 align=\"center\"> (Data Cleaning and Praparation, Visualization and ML) </h4>\n",
    "<br><br>\n",
    "<h4 align=\"center\"> By Sanatan Das </h4>\n",
    "<h4 align=\"center\"> Dec 20, 2019 </h4>"
   ]
  },
  {
   "cell_type": "markdown",
   "metadata": {
    "hideCode": false,
    "slideshow": {
     "slide_type": "slide"
    }
   },
   "source": [
    "<h1> Executive Summary </h1>\n",
    "\n",
    "We took the loan data from the year 2007 to the year 2018 and found out very interesting thing.\n",
    "<br>\n",
    "\n",
    "- Total Number of Loans : 1340973\n",
    "- Time Line : 2007 : 2018\n",
    "- Number of Features : 36\n"
   ]
  },
  {
   "cell_type": "markdown",
   "metadata": {
    "slideshow": {
     "slide_type": "slide"
    }
   },
   "source": [
    "<h1> Loan Amount Distribution </h1>\n",
    "\n",
    "Most of the loan amounts are distributed from few hudreds to 20k.\n"
   ]
  },
  {
   "cell_type": "markdown",
   "metadata": {
    "hideCode": true,
    "slideshow": {
     "slide_type": "slide"
    }
   },
   "source": [
    "<div align=\"center\">\n",
    "    <img src=\"1.png\" />\n",
    "</div>"
   ]
  }
 ],
 "metadata": {
  "celltoolbar": "Slideshow",
  "kernelspec": {
   "display_name": "Python 3",
   "language": "python",
   "name": "python3"
  },
  "language_info": {
   "codemirror_mode": {
    "name": "ipython",
    "version": 3
   },
   "file_extension": ".py",
   "mimetype": "text/x-python",
   "name": "python",
   "nbconvert_exporter": "python",
   "pygments_lexer": "ipython3",
   "version": "3.6.8"
  },
  "tags": [
   "hide_input"
  ]
 },
 "nbformat": 4,
 "nbformat_minor": 2
}
