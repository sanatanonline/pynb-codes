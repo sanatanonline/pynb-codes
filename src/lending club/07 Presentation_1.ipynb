{
 "cells": [
  {
   "cell_type": "markdown",
   "metadata": {
    "slideshow": {
     "slide_type": "slide"
    }
   },
   "source": [
    "<h1 align=\"center\"> Statistical Learning of the Lending Club Loans </h1>\n",
    "<h4 align=\"center\"> (Data Cleaning and Praparation, Visualization and ML) </h4>\n",
    "<br><br>\n",
    "<h4 align=\"center\"> By Sanatan Das </h4>\n",
    "<h4 align=\"center\"> Dec 20, 2019 </h4>"
   ]
  },
  {
   "cell_type": "markdown",
   "metadata": {
    "slideshow": {
     "slide_type": "slide"
    }
   },
   "source": [
    "<h1> Topics </h1>\n",
    "\n",
    "- Introduction\n",
    "- Data Visualization\n",
    "- More Data Visualization\n",
    "- Data Cleaning and Feature Engineering\n",
    "- Data Preparation for ML\n",
    "- Models and Evaluation\n",
    "- Conclusion"
   ]
  },
  {
   "cell_type": "markdown",
   "metadata": {
    "slideshow": {
     "slide_type": "slide"
    }
   },
   "source": [
    "<h1> Introduction </h1>\n",
    "\n",
    "These files contain complete loan data for all loans issued through the 2007-2015, \n",
    "including the current loan status (Current, Late, Fully Paid, etc.) and latest payment information. \n",
    "The file containing loan data through the \"present\" contains complete loan data for all loans issued \n",
    "through the previous completed calendar quarter. Additional features include credit scores, \n",
    "number of finance inquiries, address including zip codes, and state, and collections among others. \n",
    "The file is a matrix of about 890 thousand observations and 75 variables. A data dictionary is provided \n",
    "in a separate file."
   ]
  },
  {
   "cell_type": "markdown",
   "metadata": {
    "hideCode": false,
    "slideshow": {
     "slide_type": "slide"
    }
   },
   "source": [
    "<h1> Analysis Summary </h1>\n",
    "\n",
    "We took the loan data from the year 2007 to the year 2018 and found out very interesting thing.\n",
    "<br>\n",
    "\n",
    "- Total Number of Loans : 1340973\n",
    "- Time Line : 2007 : 2018\n",
    "- Number of Features : 36\n"
   ]
  },
  {
   "cell_type": "markdown",
   "metadata": {
    "hideCode": true,
    "slideshow": {
     "slide_type": "slide"
    }
   },
   "source": [
    "<div align=\"center\">\n",
    "    <img src=\"1.png\", height=\"100%\" />\n",
    "</div>"
   ]
  },
  {
   "cell_type": "markdown",
   "metadata": {
    "slideshow": {
     "slide_type": "slide"
    }
   },
   "source": [
    "<h1 align=\"center\"> Data Visualization </h1>"
   ]
  },
  {
   "cell_type": "markdown",
   "metadata": {
    "slideshow": {
     "slide_type": "slide"
    }
   },
   "source": [
    "<h1 align=\"center\"> Loan Status </h1>\n",
    "\n",
    "<table>\n",
    "    <tr>\n",
    "        <th>Loan Status</th>\n",
    "        <th>Count</th>\n",
    "    </tr>\n",
    "    <tr>\n",
    "        <td>Charged Off</td>\n",
    "        <td>261655</td>\n",
    "    </tr>\n",
    "    <tr>\n",
    "        <td>Late (31-120 days)</td>\n",
    "        <td>21897</td>\n",
    "    </tr>\n",
    "    <tr>\n",
    "        <td>In Grace Period</td>\n",
    "        <td>8952</td>\n",
    "    </tr>\n",
    "    <tr>\n",
    "        <td>Late (16-30 days)</td>\n",
    "        <td>3737</td>\n",
    "    </tr>\n",
    "    <tr>\n",
    "        <td>Does not meet the credit policy. Status:Fully Paid</td>\n",
    "        <td>1988</td>\n",
    "    </tr>\n",
    "    <tr>\n",
    "        <td>Does not meet the credit policy. Status:Charged Off</td>\n",
    "        <td>761</td>\n",
    "    </tr>\n",
    "    <tr>\n",
    "        <td>Default </td>\n",
    "        <td>31</td>\n",
    "    </tr>\n",
    "</table>                                             "
   ]
  },
  {
   "cell_type": "markdown",
   "metadata": {
    "slideshow": {
     "slide_type": "slide"
    }
   },
   "source": [
    "<div align=\"center\">\n",
    "    <img src=\"2.png\" />\n",
    "</div>"
   ]
  },
  {
   "cell_type": "markdown",
   "metadata": {
    "slideshow": {
     "slide_type": "slide"
    }
   },
   "source": [
    "<h1> Analysis Summary </h1>\n",
    "\n",
    "We took the loan data from the year 2007 to the year 2018 and found out very interesting thing.\n",
    "<br>\n",
    "\n",
    "- Total Number of Loans : 1340973\n",
    "- Time Line : 2007 : 2018\n",
    "- Number of Features : 36"
   ]
  },
  {
   "cell_type": "markdown",
   "metadata": {
    "slideshow": {
     "slide_type": "slide"
    }
   },
   "source": [
    "<div align=\"center\">\n",
    "    <img src=\"3.png\" height=100%/>\n",
    "</div>"
   ]
  }
 ],
 "metadata": {
  "celltoolbar": "Slideshow",
  "kernelspec": {
   "display_name": "Python 3",
   "language": "python",
   "name": "python3"
  },
  "language_info": {
   "codemirror_mode": {
    "name": "ipython",
    "version": 3
   },
   "file_extension": ".py",
   "mimetype": "text/x-python",
   "name": "python",
   "nbconvert_exporter": "python",
   "pygments_lexer": "ipython3",
   "version": "3.6.9"
  },
  "tags": [
   "hide_input"
  ]
 },
 "nbformat": 4,
 "nbformat_minor": 2
}
