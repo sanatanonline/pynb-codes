{
 "cells": [
  {
   "cell_type": "markdown",
   "metadata": {},
   "source": [
    "<br><br>\n",
    "<h1 align=\"center\"> 02 Initial EDS </h1>\n",
    "<h4 align=\"center\"> ( Basic Data Visualization ) </h4>\n",
    "<br><br>"
   ]
  },
  {
   "cell_type": "code",
   "execution_count": 1,
   "metadata": {},
   "outputs": [],
   "source": [
    "'''import thpe libraries'''\n",
    "import numpy as np\n",
    "import pandas as pd\n",
    "import matplotlib.pyplot as plt\n",
    "import seaborn as sns\n",
    "from IPython.display import HTML"
   ]
  },
  {
   "cell_type": "code",
   "execution_count": 2,
   "metadata": {},
   "outputs": [],
   "source": [
    "'''load the data. It's big, set low_memory=False'''\n",
    "loan_data = pd.read_csv('/opt/apps/ml-data/bigdata/lending_club/loan_data.csv', low_memory=False)\n",
    "cols = [0]\n",
    "loan_data.drop(loan_data.columns[cols], axis=1, inplace=True)"
   ]
  },
  {
   "cell_type": "code",
   "execution_count": 3,
   "metadata": {},
   "outputs": [
    {
     "name": "stdout",
     "output_type": "stream",
     "text": [
      "(1340973, 38)\n"
     ]
    }
   ],
   "source": [
    "'''How many rows and columns?'''\n",
    "print(loan_data.shape)"
   ]
  },
  {
   "cell_type": "code",
   "execution_count": 4,
   "metadata": {},
   "outputs": [
    {
     "data": {
      "text/html": [
       "<table border=\"1\" class=\"dataframe\">\n",
       "  <thead>\n",
       "    <tr style=\"text-align: right;\">\n",
       "      <th></th>\n",
       "      <th>col</th>\n",
       "      <th>null_count</th>\n",
       "      <th>null_pct</th>\n",
       "      <th>d_type</th>\n",
       "      <th>n_unique</th>\n",
       "    </tr>\n",
       "  </thead>\n",
       "  <tbody>\n",
       "    <tr>\n",
       "      <th>0</th>\n",
       "      <td>loan_amnt</td>\n",
       "      <td>0</td>\n",
       "      <td>None</td>\n",
       "      <td>int64</td>\n",
       "      <td>1562</td>\n",
       "    </tr>\n",
       "    <tr>\n",
       "      <th>1</th>\n",
       "      <td>term</td>\n",
       "      <td>0</td>\n",
       "      <td>None</td>\n",
       "      <td>object</td>\n",
       "      <td>2</td>\n",
       "    </tr>\n",
       "    <tr>\n",
       "      <th>2</th>\n",
       "      <td>int_rate</td>\n",
       "      <td>0</td>\n",
       "      <td>None</td>\n",
       "      <td>float64</td>\n",
       "      <td>672</td>\n",
       "    </tr>\n",
       "    <tr>\n",
       "      <th>3</th>\n",
       "      <td>installment</td>\n",
       "      <td>0</td>\n",
       "      <td>None</td>\n",
       "      <td>float64</td>\n",
       "      <td>83593</td>\n",
       "    </tr>\n",
       "    <tr>\n",
       "      <th>4</th>\n",
       "      <td>grade</td>\n",
       "      <td>0</td>\n",
       "      <td>None</td>\n",
       "      <td>object</td>\n",
       "      <td>7</td>\n",
       "    </tr>\n",
       "    <tr>\n",
       "      <th>5</th>\n",
       "      <td>sub_grade</td>\n",
       "      <td>0</td>\n",
       "      <td>None</td>\n",
       "      <td>object</td>\n",
       "      <td>35</td>\n",
       "    </tr>\n",
       "    <tr>\n",
       "      <th>6</th>\n",
       "      <td>emp_length</td>\n",
       "      <td>0</td>\n",
       "      <td>None</td>\n",
       "      <td>object</td>\n",
       "      <td>11</td>\n",
       "    </tr>\n",
       "    <tr>\n",
       "      <th>7</th>\n",
       "      <td>home_ownership</td>\n",
       "      <td>0</td>\n",
       "      <td>None</td>\n",
       "      <td>object</td>\n",
       "      <td>6</td>\n",
       "    </tr>\n",
       "    <tr>\n",
       "      <th>8</th>\n",
       "      <td>annual_inc</td>\n",
       "      <td>0</td>\n",
       "      <td>None</td>\n",
       "      <td>float64</td>\n",
       "      <td>64248</td>\n",
       "    </tr>\n",
       "    <tr>\n",
       "      <th>9</th>\n",
       "      <td>verification_status</td>\n",
       "      <td>0</td>\n",
       "      <td>None</td>\n",
       "      <td>object</td>\n",
       "      <td>3</td>\n",
       "    </tr>\n",
       "    <tr>\n",
       "      <th>10</th>\n",
       "      <td>issue_d</td>\n",
       "      <td>0</td>\n",
       "      <td>None</td>\n",
       "      <td>object</td>\n",
       "      <td>139</td>\n",
       "    </tr>\n",
       "    <tr>\n",
       "      <th>11</th>\n",
       "      <td>loan_status</td>\n",
       "      <td>0</td>\n",
       "      <td>None</td>\n",
       "      <td>object</td>\n",
       "      <td>8</td>\n",
       "    </tr>\n",
       "    <tr>\n",
       "      <th>12</th>\n",
       "      <td>pymnt_plan</td>\n",
       "      <td>0</td>\n",
       "      <td>None</td>\n",
       "      <td>object</td>\n",
       "      <td>2</td>\n",
       "    </tr>\n",
       "    <tr>\n",
       "      <th>13</th>\n",
       "      <td>purpose</td>\n",
       "      <td>0</td>\n",
       "      <td>None</td>\n",
       "      <td>object</td>\n",
       "      <td>14</td>\n",
       "    </tr>\n",
       "    <tr>\n",
       "      <th>14</th>\n",
       "      <td>addr_state</td>\n",
       "      <td>0</td>\n",
       "      <td>None</td>\n",
       "      <td>object</td>\n",
       "      <td>51</td>\n",
       "    </tr>\n",
       "    <tr>\n",
       "      <th>15</th>\n",
       "      <td>dti</td>\n",
       "      <td>0</td>\n",
       "      <td>None</td>\n",
       "      <td>float64</td>\n",
       "      <td>7140</td>\n",
       "    </tr>\n",
       "    <tr>\n",
       "      <th>16</th>\n",
       "      <td>delinq_2yrs</td>\n",
       "      <td>0</td>\n",
       "      <td>None</td>\n",
       "      <td>float64</td>\n",
       "      <td>31</td>\n",
       "    </tr>\n",
       "    <tr>\n",
       "      <th>17</th>\n",
       "      <td>earliest_cr_line</td>\n",
       "      <td>0</td>\n",
       "      <td>None</td>\n",
       "      <td>object</td>\n",
       "      <td>738</td>\n",
       "    </tr>\n",
       "    <tr>\n",
       "      <th>18</th>\n",
       "      <td>inq_last_6mths</td>\n",
       "      <td>0</td>\n",
       "      <td>None</td>\n",
       "      <td>float64</td>\n",
       "      <td>28</td>\n",
       "    </tr>\n",
       "    <tr>\n",
       "      <th>19</th>\n",
       "      <td>mths_since_last_delinq</td>\n",
       "      <td>0</td>\n",
       "      <td>None</td>\n",
       "      <td>float64</td>\n",
       "      <td>163</td>\n",
       "    </tr>\n",
       "    <tr>\n",
       "      <th>20</th>\n",
       "      <td>open_acc</td>\n",
       "      <td>0</td>\n",
       "      <td>None</td>\n",
       "      <td>float64</td>\n",
       "      <td>84</td>\n",
       "    </tr>\n",
       "    <tr>\n",
       "      <th>21</th>\n",
       "      <td>pub_rec</td>\n",
       "      <td>0</td>\n",
       "      <td>None</td>\n",
       "      <td>float64</td>\n",
       "      <td>39</td>\n",
       "    </tr>\n",
       "    <tr>\n",
       "      <th>22</th>\n",
       "      <td>revol_bal</td>\n",
       "      <td>0</td>\n",
       "      <td>None</td>\n",
       "      <td>int64</td>\n",
       "      <td>83768</td>\n",
       "    </tr>\n",
       "    <tr>\n",
       "      <th>23</th>\n",
       "      <td>revol_util</td>\n",
       "      <td>0</td>\n",
       "      <td>None</td>\n",
       "      <td>float64</td>\n",
       "      <td>1373</td>\n",
       "    </tr>\n",
       "    <tr>\n",
       "      <th>24</th>\n",
       "      <td>total_acc</td>\n",
       "      <td>0</td>\n",
       "      <td>None</td>\n",
       "      <td>float64</td>\n",
       "      <td>145</td>\n",
       "    </tr>\n",
       "    <tr>\n",
       "      <th>25</th>\n",
       "      <td>collections_12_mths_ex_med</td>\n",
       "      <td>0</td>\n",
       "      <td>None</td>\n",
       "      <td>float64</td>\n",
       "      <td>15</td>\n",
       "    </tr>\n",
       "    <tr>\n",
       "      <th>26</th>\n",
       "      <td>application_type</td>\n",
       "      <td>0</td>\n",
       "      <td>None</td>\n",
       "      <td>object</td>\n",
       "      <td>2</td>\n",
       "    </tr>\n",
       "    <tr>\n",
       "      <th>27</th>\n",
       "      <td>acc_now_delinq</td>\n",
       "      <td>0</td>\n",
       "      <td>None</td>\n",
       "      <td>float64</td>\n",
       "      <td>8</td>\n",
       "    </tr>\n",
       "    <tr>\n",
       "      <th>28</th>\n",
       "      <td>tot_coll_amt</td>\n",
       "      <td>0</td>\n",
       "      <td>None</td>\n",
       "      <td>float64</td>\n",
       "      <td>12833</td>\n",
       "    </tr>\n",
       "    <tr>\n",
       "      <th>29</th>\n",
       "      <td>tot_cur_bal</td>\n",
       "      <td>0</td>\n",
       "      <td>None</td>\n",
       "      <td>float64</td>\n",
       "      <td>399347</td>\n",
       "    </tr>\n",
       "    <tr>\n",
       "      <th>30</th>\n",
       "      <td>total_rev_hi_lim</td>\n",
       "      <td>0</td>\n",
       "      <td>None</td>\n",
       "      <td>float64</td>\n",
       "      <td>26741</td>\n",
       "    </tr>\n",
       "    <tr>\n",
       "      <th>31</th>\n",
       "      <td>inq_fi</td>\n",
       "      <td>0</td>\n",
       "      <td>None</td>\n",
       "      <td>float64</td>\n",
       "      <td>30</td>\n",
       "    </tr>\n",
       "    <tr>\n",
       "      <th>32</th>\n",
       "      <td>inq_last_12m</td>\n",
       "      <td>0</td>\n",
       "      <td>None</td>\n",
       "      <td>float64</td>\n",
       "      <td>43</td>\n",
       "    </tr>\n",
       "    <tr>\n",
       "      <th>33</th>\n",
       "      <td>mort_acc</td>\n",
       "      <td>0</td>\n",
       "      <td>None</td>\n",
       "      <td>float64</td>\n",
       "      <td>38</td>\n",
       "    </tr>\n",
       "    <tr>\n",
       "      <th>34</th>\n",
       "      <td>hardship_flag</td>\n",
       "      <td>0</td>\n",
       "      <td>None</td>\n",
       "      <td>object</td>\n",
       "      <td>2</td>\n",
       "    </tr>\n",
       "    <tr>\n",
       "      <th>35</th>\n",
       "      <td>disbursement_method</td>\n",
       "      <td>0</td>\n",
       "      <td>None</td>\n",
       "      <td>object</td>\n",
       "      <td>2</td>\n",
       "    </tr>\n",
       "    <tr>\n",
       "      <th>36</th>\n",
       "      <td>age_of_credit_in_days</td>\n",
       "      <td>0</td>\n",
       "      <td>None</td>\n",
       "      <td>int64</td>\n",
       "      <td>2869</td>\n",
       "    </tr>\n",
       "    <tr>\n",
       "      <th>37</th>\n",
       "      <td>risk</td>\n",
       "      <td>0</td>\n",
       "      <td>None</td>\n",
       "      <td>object</td>\n",
       "      <td>2</td>\n",
       "    </tr>\n",
       "  </tbody>\n",
       "</table>"
      ],
      "text/plain": [
       "<IPython.core.display.HTML object>"
      ]
     },
     "metadata": {},
     "output_type": "display_data"
    }
   ],
   "source": [
    "'''\n",
    "A first look at the data, null values, data types, unique values etc.\n",
    "Check which columns are having all null values. We need to drop those columns.\n",
    "Also, check the columns having one or more null values. We need to take care of them.\n",
    "'''\n",
    "cols = loan_data.columns\n",
    "null_count = 0\n",
    "null_pct = 'None'\n",
    "d = []\n",
    "d_types = loan_data.dtypes\n",
    "\n",
    "for ind, col in enumerate(cols):\n",
    "    if loan_data[col].isnull().all():\n",
    "        null_count = 'all'\n",
    "        null_pct = '100%'\n",
    "    else:\n",
    "        null_count = loan_data[col].isnull().sum()\n",
    "        total_records = len(loan_data)\n",
    "        if null_count > 0:\n",
    "            null_pct = 'Missing Values'\n",
    "        else:\n",
    "            null_pct = 'None'\n",
    "    \n",
    "\n",
    "    d.append({'col': col, 'null_count': null_count, 'null_pct': null_pct, 'd_type': d_types[col], \n",
    "              'n_unique': loan_data[col].nunique()})\n",
    "    null_count = 0\n",
    "    null_pct = 'None'\n",
    "    \n",
    "    \n",
    "loan_data_info = pd.DataFrame(d)\n",
    "\n",
    "# Write the loan_data_info to CSV file\n",
    "# loan_data_info.to_csv('loan_features.csv', sep=',', encoding='UTF-8')\n",
    "\n",
    "# Write the loan_data_info to .xlsx file\n",
    "#loan_data_info.to_csv('loan_features.xlsx')\n",
    "\n",
    "# Display the dataframe as HTML table\n",
    "display(HTML(loan_data_info.to_html()))"
   ]
  },
  {
   "cell_type": "code",
   "execution_count": 5,
   "metadata": {},
   "outputs": [
    {
     "data": {
      "image/png": "[encoded data removed]",
      "text/plain": [
       "<Figure size 1080x720 with 1 Axes>"
      ]
     },
     "metadata": {},
     "output_type": "display_data"
    }
   ],
   "source": [
    "'''Loan Amount Distribution'''\n",
    "plt.style.use('ggplot')\n",
    "plt.figure(figsize=(15, 10))\n",
    "\n",
    "sns.distplot(loan_data['loan_amnt'])\n",
    "\n",
    "plt.xlabel(\"Loan Amount on Dollars\")\n",
    "plt.title(\"Loan Amount Distribution\")\n",
    "\n",
    "plt.show()"
   ]
  },
  {
   "cell_type": "code",
   "execution_count": 9,
   "metadata": {},
   "outputs": [
    {
     "data": {
      "image/png": "[encoded data removed]",
      "text/plain": [
       "<Figure size 1080x720 with 1 Axes>"
      ]
     },
     "metadata": {},
     "output_type": "display_data"
    }
   ],
   "source": [
    "plt.style.use('ggplot')\n",
    "plt.figure(figsize=(15, 10))\n",
    "\n",
    "loan_data['issue_d'] = loan_data['issue_d'].astype('datetime64[ns]')\n",
    "sns.barplot(loan_data['issue_d'].dt.year, 'loan_amnt', data=loan_data)\n",
    "\n",
    "plt.title('Issuance of Loans')\n",
    "plt.xlabel('Year')\n",
    "plt.ylabel('Average Loan Amount Issued')\n",
    "\n",
    "plt.show()"
   ]
  },
  {
   "cell_type": "code",
   "execution_count": 28,
   "metadata": {},
   "outputs": [
    {
     "data": {
      "image/png": "[encoded data removed]",
      "text/plain": [
       "<Figure size 1080x720 with 1 Axes>"
      ]
     },
     "metadata": {},
     "output_type": "display_data"
    }
   ],
   "source": [
    "plt.figure(figsize=(15, 10))\n",
    "\n",
    "risk_counts = loan_data['risk'].value_counts()\n",
    "risk_counts.plot.pie(autopct='%1.2f%%')\n",
    "\n",
    "plt.title('Loan Risk Distribution')\n",
    "plt.xlabel('')\n",
    "plt.ylabel('% of Loan Condition')\n",
    "\n",
    "plt.show()"
   ]
  },
  {
   "cell_type": "code",
   "execution_count": 27,
   "metadata": {},
   "outputs": [
    {
     "data": {
      "image/png": "[encoded data removed]",
      "text/plain": [
       "<Figure size 1080x720 with 1 Axes>"
      ]
     },
     "metadata": {},
     "output_type": "display_data"
    }
   ],
   "source": [
    "plt.style.use('ggplot')\n",
    "plt.figure(figsize=(15, 10))\n",
    "\n",
    "sns.barplot(x=loan_data['issue_d'].dt.year, y=\"loan_amnt\", \n",
    "            hue=\"risk\", data=loan_data, \n",
    "            estimator=lambda x: len(x) / len(loan_data) * 100)\n",
    "\n",
    "plt.title('Loan Risk Distribution')\n",
    "plt.xlabel('Year')\n",
    "plt.ylabel('% of Loan Risk')\n",
    "\n",
    "plt.show()"
   ]
  },
  {
   "cell_type": "code",
   "execution_count": 29,
   "metadata": {},
   "outputs": [
    {
     "data": {
      "text/plain": [
       "South East    324228\n",
       "West          319059\n",
       "North East    302534\n",
       "Mid West      233225\n",
       "South West    161927\n",
       "Name: region, dtype: int64"
      ]
     },
     "execution_count": 29,
     "metadata": {},
     "output_type": "execute_result"
    }
   ],
   "source": [
    "loan_data['addr_state'].unique()\n",
    "\n",
    "'''Make a list with each of the regions by state.'''\n",
    "west = ['CA', 'OR', 'UT','WA', 'CO', 'NV', 'AK', 'MT', 'HI', 'WY', 'ID']\n",
    "south_west = ['AZ', 'TX', 'NM', 'OK']\n",
    "south_east = ['GA', 'NC', 'VA', 'FL', 'KY', 'SC', 'LA', 'AL', 'WV', 'DC', 'AR', 'DE', 'MS', 'TN' ]\n",
    "mid_west = ['IL', 'MO', 'MN', 'OH', 'WI', 'KS', 'MI', 'SD', 'IA', 'NE', 'IN', 'ND']\n",
    "north_east = ['CT', 'NY', 'PA', 'NJ', 'RI','MA', 'MD', 'VT', 'NH', 'ME']\n",
    "\n",
    "\n",
    "loan_data['region'] = np.nan\n",
    "\n",
    "def finding_regions(state):\n",
    "    if state in west:\n",
    "        return 'West'\n",
    "    elif state in south_west:\n",
    "        return 'South West'\n",
    "    elif state in south_east:\n",
    "        return 'South East'\n",
    "    elif state in mid_west:\n",
    "        return 'Mid West'\n",
    "    elif state in north_east:\n",
    "        return 'North East'\n",
    "\n",
    "\n",
    "loan_data['region'] = loan_data['addr_state'].apply(finding_regions)\n",
    "loan_data['region'].value_counts()"
   ]
  },
  {
   "cell_type": "code",
   "execution_count": 33,
   "metadata": {},
   "outputs": [
    {
     "data": {
      "text/html": [
       "<div>\n",
       "<style scoped>\n",
       "    .dataframe tbody tr th:only-of-type {\n",
       "        vertical-align: middle;\n",
       "    }\n",
       "\n",
       "    .dataframe tbody tr th {\n",
       "        vertical-align: top;\n",
       "    }\n",
       "\n",
       "    .dataframe thead th {\n",
       "        text-align: right;\n",
       "    }\n",
       "</style>\n",
       "<table border=\"1\" class=\"dataframe\">\n",
       "  <thead>\n",
       "    <tr style=\"text-align: right;\">\n",
       "      <th></th>\n",
       "      <th>state_codes</th>\n",
       "      <th>issued_loans</th>\n",
       "      <th>interest_rate</th>\n",
       "      <th>annual_income</th>\n",
       "    </tr>\n",
       "  </thead>\n",
       "  <tbody>\n",
       "    <tr>\n",
       "      <th>0</th>\n",
       "      <td>IA</td>\n",
       "      <td>114075</td>\n",
       "      <td>12.63</td>\n",
       "      <td>44756.21</td>\n",
       "    </tr>\n",
       "    <tr>\n",
       "      <th>1</th>\n",
       "      <td>IL</td>\n",
       "      <td>757873225</td>\n",
       "      <td>13.15</td>\n",
       "      <td>77943.09</td>\n",
       "    </tr>\n",
       "    <tr>\n",
       "      <th>2</th>\n",
       "      <td>IN</td>\n",
       "      <td>303733925</td>\n",
       "      <td>13.47</td>\n",
       "      <td>68986.51</td>\n",
       "    </tr>\n",
       "    <tr>\n",
       "      <th>3</th>\n",
       "      <td>KS</td>\n",
       "      <td>157123425</td>\n",
       "      <td>13.20</td>\n",
       "      <td>69771.31</td>\n",
       "    </tr>\n",
       "    <tr>\n",
       "      <th>4</th>\n",
       "      <td>MI</td>\n",
       "      <td>485811550</td>\n",
       "      <td>13.43</td>\n",
       "      <td>70058.66</td>\n",
       "    </tr>\n",
       "  </tbody>\n",
       "</table>\n",
       "</div>"
      ],
      "text/plain": [
       "  state_codes  issued_loans  interest_rate  annual_income\n",
       "0          IA        114075          12.63       44756.21\n",
       "1          IL     757873225          13.15       77943.09\n",
       "2          IN     303733925          13.47       68986.51\n",
       "3          KS     157123425          13.20       69771.31\n",
       "4          MI     485811550          13.43       70058.66"
      ]
     },
     "execution_count": 33,
     "metadata": {},
     "output_type": "execute_result"
    }
   ],
   "source": [
    "by_loan_amount = loan_data.groupby(['region','addr_state'], as_index=False).loan_amnt.sum()\n",
    "by_interest_rate = loan_data.groupby(['region', 'addr_state'], as_index=False).int_rate.mean()\n",
    "by_income = loan_data.groupby(['region', 'addr_state'], as_index=False).annual_inc.mean()\n",
    "\n",
    "'''Take the values to a list for visualization purposes.'''\n",
    "states = by_loan_amount['addr_state'].values.tolist()\n",
    "average_loan_amounts = by_loan_amount['loan_amnt'].values.tolist()\n",
    "average_interest_rates = by_interest_rate['int_rate'].values.tolist()\n",
    "average_annual_income = by_income['annual_inc'].values.tolist()\n",
    "\n",
    "\n",
    "from collections import OrderedDict\n",
    "\n",
    "metrics_data = OrderedDict([('state_codes', states),\n",
    "                            ('issued_loans', average_loan_amounts),\n",
    "                            ('interest_rate', average_interest_rates),\n",
    "                            ('annual_income', average_annual_income)])\n",
    "                     \n",
    "\n",
    "metrics_df = pd.DataFrame.from_dict(metrics_data)\n",
    "metrics_df = metrics_df.round(decimals=2)\n",
    "metrics_df.head()"
   ]
  },
  {
   "cell_type": "code",
   "execution_count": 40,
   "metadata": {},
   "outputs": [
    {
     "data": {
      "application/vnd.plotly.v1+json": {
       "config": {
        "linkText": "Export to plot.ly",
        "plotlyServerURL": "https://plot.ly",
        "showLink": false
       },
       "data": [
        {
         "autocolorscale": false,
         "colorbar": {
          "title": {
           "text": "$s USD"
          }
         },
         "colorscale": [
          [
           0,
           "rgb(210, 241, 198)"
          ],
          [
           0.2,
           "rgb(188, 236, 169)"
          ],
          [
           0.4,
           "rgb(171, 235, 145)"
          ],
          [
           0.6,
           "rgb(140, 227, 105)"
          ],
          [
           0.8,
           "rgb(105, 201, 67)"
          ],
          [
           1,
           "rgb(59, 159, 19)"
          ]
         ],
         "locationmode": "USA-states",
         "locations": [
          "IA",
          "IL",
          "IN",
          "KS",
          "MI",
          "MN",
          "MO",
          "ND",
          "NE",
          "OH",
          "SD",
          "WI",
          "CT",
          "MA",
          "MD",
          "ME",
          "NH",
          "NJ",
          "NY",
          "PA",
          "RI",
          "VT",
          "AL",
          "AR",
          "DC",
          "DE",
          "FL",
          "GA",
          "KY",
          "LA",
          "MS",
          "NC",
          "SC",
          "TN",
          "VA",
          "WV",
          "AZ",
          "NM",
          "OK",
          "TX",
          "AK",
          "CA",
          "CO",
          "HI",
          "ID",
          "MT",
          "NV",
          "OR",
          "UT",
          "WA",
          "WY"
         ],
         "marker": {
          "line": {
           "color": "rgb(255,255,255)",
           "width": 2
          }
         },
         "text": [
          "IA<br>Average loan interest rate: 12.63<br>Average annual income: 44756.21",
          "IL<br>Average loan interest rate: 13.15<br>Average annual income: 77943.09",
          "IN<br>Average loan interest rate: 13.47<br>Average annual income: 68986.51",
          "KS<br>Average loan interest rate: 13.2<br>Average annual income: 69771.31",
          "MI<br>Average loan interest rate: 13.43<br>Average annual income: 70058.66",
          "MN<br>Average loan interest rate: 13.19<br>Average annual income: 71271.59",
          "MO<br>Average loan interest rate: 13.3<br>Average annual income: 68566.01",
          "ND<br>Average loan interest rate: 13.68<br>Average annual income: 75830.11",
          "NE<br>Average loan interest rate: 13.61<br>Average annual income: 64387.19",
          "OH<br>Average loan interest rate: 13.34<br>Average annual income: 67551.28",
          "SD<br>Average loan interest rate: 13.45<br>Average annual income: 61976.16",
          "WI<br>Average loan interest rate: 13.08<br>Average annual income: 67261.56",
          "CT<br>Average loan interest rate: 13.21<br>Average annual income: 84663.84",
          "MA<br>Average loan interest rate: 12.85<br>Average annual income: 81262.19",
          "MD<br>Average loan interest rate: 13.46<br>Average annual income: 84284.82",
          "ME<br>Average loan interest rate: 12.98<br>Average annual income: 67613.71",
          "NH<br>Average loan interest rate: 12.94<br>Average annual income: 77440.16",
          "NJ<br>Average loan interest rate: 13.22<br>Average annual income: 86231.08",
          "NY<br>Average loan interest rate: 13.46<br>Average annual income: 79335.94",
          "PA<br>Average loan interest rate: 13.41<br>Average annual income: 71777.8",
          "RI<br>Average loan interest rate: 13.2<br>Average annual income: 72405.6",
          "VT<br>Average loan interest rate: 12.96<br>Average annual income: 65377.04",
          "AL<br>Average loan interest rate: 13.81<br>Average annual income: 68889.92",
          "AR<br>Average loan interest rate: 13.59<br>Average annual income: 66426.31",
          "DC<br>Average loan interest rate: 12.68<br>Average annual income: 91213.46",
          "DE<br>Average loan interest rate: 13.46<br>Average annual income: 75326.02",
          "FL<br>Average loan interest rate: 13.4<br>Average annual income: 71357.92",
          "GA<br>Average loan interest rate: 13.38<br>Average annual income: 76036.58",
          "KY<br>Average loan interest rate: 13.41<br>Average annual income: 67567.18",
          "LA<br>Average loan interest rate: 13.44<br>Average annual income: 74778.14",
          "MS<br>Average loan interest rate: 13.67<br>Average annual income: 68778.87",
          "NC<br>Average loan interest rate: 13.47<br>Average annual income: 72249.59",
          "SC<br>Average loan interest rate: 13.44<br>Average annual income: 72606.2",
          "TN<br>Average loan interest rate: 13.58<br>Average annual income: 68999.63",
          "VA<br>Average loan interest rate: 13.34<br>Average annual income: 82358.37",
          "WV<br>Average loan interest rate: 13.22<br>Average annual income: 67174.23",
          "AZ<br>Average loan interest rate: 13.16<br>Average annual income: 72771.57",
          "NM<br>Average loan interest rate: 13.34<br>Average annual income: 70895.77",
          "OK<br>Average loan interest rate: 13.5<br>Average annual income: 70614.32",
          "TX<br>Average loan interest rate: 13.23<br>Average annual income: 81323.88",
          "AK<br>Average loan interest rate: 13.57<br>Average annual income: 77610.25",
          "CA<br>Average loan interest rate: 13.22<br>Average annual income: 81977.44",
          "CO<br>Average loan interest rate: 13.1<br>Average annual income: 75498.38",
          "HI<br>Average loan interest rate: 13.98<br>Average annual income: 72221.32",
          "ID<br>Average loan interest rate: 14.04<br>Average annual income: 62177.81",
          "MT<br>Average loan interest rate: 13.12<br>Average annual income: 62729.02",
          "NV<br>Average loan interest rate: 13.45<br>Average annual income: 71767.67",
          "OR<br>Average loan interest rate: 13.14<br>Average annual income: 67302.13",
          "UT<br>Average loan interest rate: 13.38<br>Average annual income: 73968.03",
          "WA<br>Average loan interest rate: 13.37<br>Average annual income: 75778.78",
          "WY<br>Average loan interest rate: 13.33<br>Average annual income: 73372.39"
         ],
         "type": "choropleth",
         "z": [
          "114075",
          "757873225",
          "303733925",
          "157123425",
          "485811550",
          "333702375",
          "295422825",
          "23211075",
          "47834025",
          "596599650",
          "37211650",
          "244877150",
          "288490100",
          "473539250",
          "476474400",
          "27983400",
          "92379050",
          "736094275",
          "1578348675",
          "640149025",
          "79939775",
          "34945700",
          "233476675",
          "135578450",
          "52840625",
          "53817125",
          "1319098425",
          "634553350",
          "174920275",
          "222305725",
          "93599225",
          "536327200",
          "226039000",
          "288245475",
          "582917450",
          "68168400",
          "453734725",
          "105455375",
          "174587550",
          "1674498050",
          "52558775",
          "2885898575",
          "433069350",
          "102736125",
          "22276525",
          "50897875",
          "277587900",
          "221709775",
          "145695025",
          "428952100",
          "43681275"
         ]
        }
       ],
       "layout": {
        "geo": {
         "lakecolor": "rgb(255, 255, 255)",
         "projection": {
          "type": "albers usa"
         },
         "scope": "usa",
         "showlakes": true
        },
        "template": {
         "data": {
          "bar": [
           {
            "error_x": {
             "color": "#2a3f5f"
            },
            "error_y": {
             "color": "#2a3f5f"
            },
            "marker": {
             "line": {
              "color": "#E5ECF6",
              "width": 0.5
             }
            },
            "type": "bar"
           }
          ],
          "barpolar": [
           {
            "marker": {
             "line": {
              "color": "#E5ECF6",
              "width": 0.5
             }
            },
            "type": "barpolar"
           }
          ],
          "carpet": [
           {
            "aaxis": {
             "endlinecolor": "#2a3f5f",
             "gridcolor": "white",
             "linecolor": "white",
             "minorgridcolor": "white",
             "startlinecolor": "#2a3f5f"
            },
            "baxis": {
             "endlinecolor": "#2a3f5f",
             "gridcolor": "white",
             "linecolor": "white",
             "minorgridcolor": "white",
             "startlinecolor": "#2a3f5f"
            },
            "type": "carpet"
           }
          ],
          "choropleth": [
           {
            "colorbar": {
             "outlinewidth": 0,
             "ticks": ""
            },
            "type": "choropleth"
           }
          ],
          "contour": [
           {
            "colorbar": {
             "outlinewidth": 0,
             "ticks": ""
            },
            "colorscale": [
             [
              0,
              "#0d0887"
             ],
             [
              0.1111111111111111,
              "#46039f"
             ],
             [
              0.2222222222222222,
              "#7201a8"
             ],
             [
              0.3333333333333333,
              "#9c179e"
             ],
             [
              0.4444444444444444,
              "#bd3786"
             ],
             [
              0.5555555555555556,
              "#d8576b"
             ],
             [
              0.6666666666666666,
              "#ed7953"
             ],
             [
              0.7777777777777778,
              "#fb9f3a"
             ],
             [
              0.8888888888888888,
              "#fdca26"
             ],
             [
              1,
              "#f0f921"
             ]
            ],
            "type": "contour"
           }
          ],
          "contourcarpet": [
           {
            "colorbar": {
             "outlinewidth": 0,
             "ticks": ""
            },
            "type": "contourcarpet"
           }
          ],
          "heatmap": [
           {
            "colorbar": {
             "outlinewidth": 0,
             "ticks": ""
            },
            "colorscale": [
             [
              0,
              "#0d0887"
             ],
             [
              0.1111111111111111,
              "#46039f"
             ],
             [
              0.2222222222222222,
              "#7201a8"
             ],
             [
              0.3333333333333333,
              "#9c179e"
             ],
             [
              0.4444444444444444,
              "#bd3786"
             ],
             [
              0.5555555555555556,
              "#d8576b"
             ],
             [
              0.6666666666666666,
              "#ed7953"
             ],
             [
              0.7777777777777778,
              "#fb9f3a"
             ],
             [
              0.8888888888888888,
              "#fdca26"
             ],
             [
              1,
              "#f0f921"
             ]
            ],
            "type": "heatmap"
           }
          ],
          "heatmapgl": [
           {
            "colorbar": {
             "outlinewidth": 0,
             "ticks": ""
            },
            "colorscale": [
             [
              0,
              "#0d0887"
             ],
             [
              0.1111111111111111,
              "#46039f"
             ],
             [
              0.2222222222222222,
              "#7201a8"
             ],
             [
              0.3333333333333333,
              "#9c179e"
             ],
             [
              0.4444444444444444,
              "#bd3786"
             ],
             [
              0.5555555555555556,
              "#d8576b"
             ],
             [
              0.6666666666666666,
              "#ed7953"
             ],
             [
              0.7777777777777778,
              "#fb9f3a"
             ],
             [
              0.8888888888888888,
              "#fdca26"
             ],
             [
              1,
              "#f0f921"
             ]
            ],
            "type": "heatmapgl"
           }
          ],
          "histogram": [
           {
            "marker": {
             "colorbar": {
              "outlinewidth": 0,
              "ticks": ""
             }
            },
            "type": "histogram"
           }
          ],
          "histogram2d": [
           {
            "colorbar": {
             "outlinewidth": 0,
             "ticks": ""
            },
            "colorscale": [
             [
              0,
              "#0d0887"
             ],
             [
              0.1111111111111111,
              "#46039f"
             ],
             [
              0.2222222222222222,
              "#7201a8"
             ],
             [
              0.3333333333333333,
              "#9c179e"
             ],
             [
              0.4444444444444444,
              "#bd3786"
             ],
             [
              0.5555555555555556,
              "#d8576b"
             ],
             [
              0.6666666666666666,
              "#ed7953"
             ],
             [
              0.7777777777777778,
              "#fb9f3a"
             ],
             [
              0.8888888888888888,
              "#fdca26"
             ],
             [
              1,
              "#f0f921"
             ]
            ],
            "type": "histogram2d"
           }
          ],
          "histogram2dcontour": [
           {
            "colorbar": {
             "outlinewidth": 0,
             "ticks": ""
            },
            "colorscale": [
             [
              0,
              "#0d0887"
             ],
             [
              0.1111111111111111,
              "#46039f"
             ],
             [
              0.2222222222222222,
              "#7201a8"
             ],
             [
              0.3333333333333333,
              "#9c179e"
             ],
             [
              0.4444444444444444,
              "#bd3786"
             ],
             [
              0.5555555555555556,
              "#d8576b"
             ],
             [
              0.6666666666666666,
              "#ed7953"
             ],
             [
              0.7777777777777778,
              "#fb9f3a"
             ],
             [
              0.8888888888888888,
              "#fdca26"
             ],
             [
              1,
              "#f0f921"
             ]
            ],
            "type": "histogram2dcontour"
           }
          ],
          "mesh3d": [
           {
            "colorbar": {
             "outlinewidth": 0,
             "ticks": ""
            },
            "type": "mesh3d"
           }
          ],
          "parcoords": [
           {
            "line": {
             "colorbar": {
              "outlinewidth": 0,
              "ticks": ""
             }
            },
            "type": "parcoords"
           }
          ],
          "scatter": [
           {
            "marker": {
             "colorbar": {
              "outlinewidth": 0,
              "ticks": ""
             }
            },
            "type": "scatter"
           }
          ],
          "scatter3d": [
           {
            "line": {
             "colorbar": {
              "outlinewidth": 0,
              "ticks": ""
             }
            },
            "marker": {
             "colorbar": {
              "outlinewidth": 0,
              "ticks": ""
             }
            },
            "type": "scatter3d"
           }
          ],
          "scattercarpet": [
           {
            "marker": {
             "colorbar": {
              "outlinewidth": 0,
              "ticks": ""
             }
            },
            "type": "scattercarpet"
           }
          ],
          "scattergeo": [
           {
            "marker": {
             "colorbar": {
              "outlinewidth": 0,
              "ticks": ""
             }
            },
            "type": "scattergeo"
           }
          ],
          "scattergl": [
           {
            "marker": {
             "colorbar": {
              "outlinewidth": 0,
              "ticks": ""
             }
            },
            "type": "scattergl"
           }
          ],
          "scattermapbox": [
           {
            "marker": {
             "colorbar": {
              "outlinewidth": 0,
              "ticks": ""
             }
            },
            "type": "scattermapbox"
           }
          ],
          "scatterpolar": [
           {
            "marker": {
             "colorbar": {
              "outlinewidth": 0,
              "ticks": ""
             }
            },
            "type": "scatterpolar"
           }
          ],
          "scatterpolargl": [
           {
            "marker": {
             "colorbar": {
              "outlinewidth": 0,
              "ticks": ""
             }
            },
            "type": "scatterpolargl"
           }
          ],
          "scatterternary": [
           {
            "marker": {
             "colorbar": {
              "outlinewidth": 0,
              "ticks": ""
             }
            },
            "type": "scatterternary"
           }
          ],
          "surface": [
           {
            "colorbar": {
             "outlinewidth": 0,
             "ticks": ""
            },
            "colorscale": [
             [
              0,
              "#0d0887"
             ],
             [
              0.1111111111111111,
              "#46039f"
             ],
             [
              0.2222222222222222,
              "#7201a8"
             ],
             [
              0.3333333333333333,
              "#9c179e"
             ],
             [
              0.4444444444444444,
              "#bd3786"
             ],
             [
              0.5555555555555556,
              "#d8576b"
             ],
             [
              0.6666666666666666,
              "#ed7953"
             ],
             [
              0.7777777777777778,
              "#fb9f3a"
             ],
             [
              0.8888888888888888,
              "#fdca26"
             ],
             [
              1,
              "#f0f921"
             ]
            ],
            "type": "surface"
           }
          ],
          "table": [
           {
            "cells": {
             "fill": {
              "color": "#EBF0F8"
             },
             "line": {
              "color": "white"
             }
            },
            "header": {
             "fill": {
              "color": "#C8D4E3"
             },
             "line": {
              "color": "white"
             }
            },
            "type": "table"
           }
          ]
         },
         "layout": {
          "annotationdefaults": {
           "arrowcolor": "#2a3f5f",
           "arrowhead": 0,
           "arrowwidth": 1
          },
          "colorscale": {
           "diverging": [
            [
             0,
             "#8e0152"
            ],
            [
             0.1,
             "#c51b7d"
            ],
            [
             0.2,
             "#de77ae"
            ],
            [
             0.3,
             "#f1b6da"
            ],
            [
             0.4,
             "#fde0ef"
            ],
            [
             0.5,
             "#f7f7f7"
            ],
            [
             0.6,
             "#e6f5d0"
            ],
            [
             0.7,
             "#b8e186"
            ],
            [
             0.8,
             "#7fbc41"
            ],
            [
             0.9,
             "#4d9221"
            ],
            [
             1,
             "#276419"
            ]
           ],
           "sequential": [
            [
             0,
             "#0d0887"
            ],
            [
             0.1111111111111111,
             "#46039f"
            ],
            [
             0.2222222222222222,
             "#7201a8"
            ],
            [
             0.3333333333333333,
             "#9c179e"
            ],
            [
             0.4444444444444444,
             "#bd3786"
            ],
            [
             0.5555555555555556,
             "#d8576b"
            ],
            [
             0.6666666666666666,
             "#ed7953"
            ],
            [
             0.7777777777777778,
             "#fb9f3a"
            ],
            [
             0.8888888888888888,
             "#fdca26"
            ],
            [
             1,
             "#f0f921"
            ]
           ],
           "sequentialminus": [
            [
             0,
             "#0d0887"
            ],
            [
             0.1111111111111111,
             "#46039f"
            ],
            [
             0.2222222222222222,
             "#7201a8"
            ],
            [
             0.3333333333333333,
             "#9c179e"
            ],
            [
             0.4444444444444444,
             "#bd3786"
            ],
            [
             0.5555555555555556,
             "#d8576b"
            ],
            [
             0.6666666666666666,
             "#ed7953"
            ],
            [
             0.7777777777777778,
             "#fb9f3a"
            ],
            [
             0.8888888888888888,
             "#fdca26"
            ],
            [
             1,
             "#f0f921"
            ]
           ]
          },
          "colorway": [
           "#636efa",
           "#EF553B",
           "#00cc96",
           "#ab63fa",
           "#FFA15A",
           "#19d3f3",
           "#FF6692",
           "#B6E880",
           "#FF97FF",
           "#FECB52"
          ],
          "font": {
           "color": "#2a3f5f"
          },
          "geo": {
           "bgcolor": "white",
           "lakecolor": "white",
           "landcolor": "#E5ECF6",
           "showlakes": true,
           "showland": true,
           "subunitcolor": "white"
          },
          "hoverlabel": {
           "align": "left"
          },
          "hovermode": "closest",
          "mapbox": {
           "style": "light"
          },
          "paper_bgcolor": "white",
          "plot_bgcolor": "#E5ECF6",
          "polar": {
           "angularaxis": {
            "gridcolor": "white",
            "linecolor": "white",
            "ticks": ""
           },
           "bgcolor": "#E5ECF6",
           "radialaxis": {
            "gridcolor": "white",
            "linecolor": "white",
            "ticks": ""
           }
          },
          "scene": {
           "xaxis": {
            "backgroundcolor": "#E5ECF6",
            "gridcolor": "white",
            "gridwidth": 2,
            "linecolor": "white",
            "showbackground": true,
            "ticks": "",
            "zerolinecolor": "white"
           },
           "yaxis": {
            "backgroundcolor": "#E5ECF6",
            "gridcolor": "white",
            "gridwidth": 2,
            "linecolor": "white",
            "showbackground": true,
            "ticks": "",
            "zerolinecolor": "white"
           },
           "zaxis": {
            "backgroundcolor": "#E5ECF6",
            "gridcolor": "white",
            "gridwidth": 2,
            "linecolor": "white",
            "showbackground": true,
            "ticks": "",
            "zerolinecolor": "white"
           }
          },
          "shapedefaults": {
           "line": {
            "color": "#2a3f5f"
           }
          },
          "ternary": {
           "aaxis": {
            "gridcolor": "white",
            "linecolor": "white",
            "ticks": ""
           },
           "baxis": {
            "gridcolor": "white",
            "linecolor": "white",
            "ticks": ""
           },
           "bgcolor": "#E5ECF6",
           "caxis": {
            "gridcolor": "white",
            "linecolor": "white",
            "ticks": ""
           }
          },
          "title": {
           "x": 0.05
          },
          "xaxis": {
           "automargin": true,
           "gridcolor": "white",
           "linecolor": "white",
           "ticks": "",
           "zerolinecolor": "white",
           "zerolinewidth": 2
          },
          "yaxis": {
           "automargin": true,
           "gridcolor": "white",
           "linecolor": "white",
           "ticks": "",
           "zerolinecolor": "white",
           "zerolinewidth": 2
          }
         }
        },
        "title": {
         "text": "Geographical Distribution of Loans"
        }
       }
      },
      "text/html": [
       "<div>\n",
       "        \n",
       "        \n",
       "            <div id=\"2843a229-84a9-426d-a0c3-0208954db509\" class=\"plotly-graph-div\" style=\"height:525px; width:100%;\"></div>\n",
       "            <script type=\"text/javascript\">\n",
       "                require([\"plotly\"], function(Plotly) {\n",
       "                    window.PLOTLYENV=window.PLOTLYENV || {};\n",
       "                    \n",
       "                if (document.getElementById(\"2843a229-84a9-426d-a0c3-0208954db509\")) {\n",
       "                    Plotly.newPlot(\n",
       "                        '2843a229-84a9-426d-a0c3-0208954db509',\n",
       "                        [{\"autocolorscale\": false, \"colorbar\": {\"title\": {\"text\": \"$s USD\"}}, \"colorscale\": [[0.0, \"rgb(210, 241, 198)\"], [0.2, \"rgb(188, 236, 169)\"], [0.4, \"rgb(171, 235, 145)\"], [0.6, \"rgb(140, 227, 105)\"], [0.8, \"rgb(105, 201, 67)\"], [1.0, \"rgb(59, 159, 19)\"]], \"locationmode\": \"USA-states\", \"locations\": [\"IA\", \"IL\", \"IN\", \"KS\", \"MI\", \"MN\", \"MO\", \"ND\", \"NE\", \"OH\", \"SD\", \"WI\", \"CT\", \"MA\", \"MD\", \"ME\", \"NH\", \"NJ\", \"NY\", \"PA\", \"RI\", \"VT\", \"AL\", \"AR\", \"DC\", \"DE\", \"FL\", \"GA\", \"KY\", \"LA\", \"MS\", \"NC\", \"SC\", \"TN\", \"VA\", \"WV\", \"AZ\", \"NM\", \"OK\", \"TX\", \"AK\", \"CA\", \"CO\", \"HI\", \"ID\", \"MT\", \"NV\", \"OR\", \"UT\", \"WA\", \"WY\"], \"marker\": {\"line\": {\"color\": \"rgb(255,255,255)\", \"width\": 2}}, \"text\": [\"IA<br>Average loan interest rate: 12.63<br>Average annual income: 44756.21\", \"IL<br>Average loan interest rate: 13.15<br>Average annual income: 77943.09\", \"IN<br>Average loan interest rate: 13.47<br>Average annual income: 68986.51\", \"KS<br>Average loan interest rate: 13.2<br>Average annual income: 69771.31\", \"MI<br>Average loan interest rate: 13.43<br>Average annual income: 70058.66\", \"MN<br>Average loan interest rate: 13.19<br>Average annual income: 71271.59\", \"MO<br>Average loan interest rate: 13.3<br>Average annual income: 68566.01\", \"ND<br>Average loan interest rate: 13.68<br>Average annual income: 75830.11\", \"NE<br>Average loan interest rate: 13.61<br>Average annual income: 64387.19\", \"OH<br>Average loan interest rate: 13.34<br>Average annual income: 67551.28\", \"SD<br>Average loan interest rate: 13.45<br>Average annual income: 61976.16\", \"WI<br>Average loan interest rate: 13.08<br>Average annual income: 67261.56\", \"CT<br>Average loan interest rate: 13.21<br>Average annual income: 84663.84\", \"MA<br>Average loan interest rate: 12.85<br>Average annual income: 81262.19\", \"MD<br>Average loan interest rate: 13.46<br>Average annual income: 84284.82\", \"ME<br>Average loan interest rate: 12.98<br>Average annual income: 67613.71\", \"NH<br>Average loan interest rate: 12.94<br>Average annual income: 77440.16\", \"NJ<br>Average loan interest rate: 13.22<br>Average annual income: 86231.08\", \"NY<br>Average loan interest rate: 13.46<br>Average annual income: 79335.94\", \"PA<br>Average loan interest rate: 13.41<br>Average annual income: 71777.8\", \"RI<br>Average loan interest rate: 13.2<br>Average annual income: 72405.6\", \"VT<br>Average loan interest rate: 12.96<br>Average annual income: 65377.04\", \"AL<br>Average loan interest rate: 13.81<br>Average annual income: 68889.92\", \"AR<br>Average loan interest rate: 13.59<br>Average annual income: 66426.31\", \"DC<br>Average loan interest rate: 12.68<br>Average annual income: 91213.46\", \"DE<br>Average loan interest rate: 13.46<br>Average annual income: 75326.02\", \"FL<br>Average loan interest rate: 13.4<br>Average annual income: 71357.92\", \"GA<br>Average loan interest rate: 13.38<br>Average annual income: 76036.58\", \"KY<br>Average loan interest rate: 13.41<br>Average annual income: 67567.18\", \"LA<br>Average loan interest rate: 13.44<br>Average annual income: 74778.14\", \"MS<br>Average loan interest rate: 13.67<br>Average annual income: 68778.87\", \"NC<br>Average loan interest rate: 13.47<br>Average annual income: 72249.59\", \"SC<br>Average loan interest rate: 13.44<br>Average annual income: 72606.2\", \"TN<br>Average loan interest rate: 13.58<br>Average annual income: 68999.63\", \"VA<br>Average loan interest rate: 13.34<br>Average annual income: 82358.37\", \"WV<br>Average loan interest rate: 13.22<br>Average annual income: 67174.23\", \"AZ<br>Average loan interest rate: 13.16<br>Average annual income: 72771.57\", \"NM<br>Average loan interest rate: 13.34<br>Average annual income: 70895.77\", \"OK<br>Average loan interest rate: 13.5<br>Average annual income: 70614.32\", \"TX<br>Average loan interest rate: 13.23<br>Average annual income: 81323.88\", \"AK<br>Average loan interest rate: 13.57<br>Average annual income: 77610.25\", \"CA<br>Average loan interest rate: 13.22<br>Average annual income: 81977.44\", \"CO<br>Average loan interest rate: 13.1<br>Average annual income: 75498.38\", \"HI<br>Average loan interest rate: 13.98<br>Average annual income: 72221.32\", \"ID<br>Average loan interest rate: 14.04<br>Average annual income: 62177.81\", \"MT<br>Average loan interest rate: 13.12<br>Average annual income: 62729.02\", \"NV<br>Average loan interest rate: 13.45<br>Average annual income: 71767.67\", \"OR<br>Average loan interest rate: 13.14<br>Average annual income: 67302.13\", \"UT<br>Average loan interest rate: 13.38<br>Average annual income: 73968.03\", \"WA<br>Average loan interest rate: 13.37<br>Average annual income: 75778.78\", \"WY<br>Average loan interest rate: 13.33<br>Average annual income: 73372.39\"], \"type\": \"choropleth\", \"z\": [\"114075\", \"757873225\", \"303733925\", \"157123425\", \"485811550\", \"333702375\", \"295422825\", \"23211075\", \"47834025\", \"596599650\", \"37211650\", \"244877150\", \"288490100\", \"473539250\", \"476474400\", \"27983400\", \"92379050\", \"736094275\", \"1578348675\", \"640149025\", \"79939775\", \"34945700\", \"233476675\", \"135578450\", \"52840625\", \"53817125\", \"1319098425\", \"634553350\", \"174920275\", \"222305725\", \"93599225\", \"536327200\", \"226039000\", \"288245475\", \"582917450\", \"68168400\", \"453734725\", \"105455375\", \"174587550\", \"1674498050\", \"52558775\", \"2885898575\", \"433069350\", \"102736125\", \"22276525\", \"50897875\", \"277587900\", \"221709775\", \"145695025\", \"428952100\", \"43681275\"]}],\n",
       "                        {\"geo\": {\"lakecolor\": \"rgb(255, 255, 255)\", \"projection\": {\"type\": \"albers usa\"}, \"scope\": \"usa\", \"showlakes\": true}, \"template\": {\"data\": {\"bar\": [{\"error_x\": {\"color\": \"#2a3f5f\"}, \"error_y\": {\"color\": \"#2a3f5f\"}, \"marker\": {\"line\": {\"color\": \"#E5ECF6\", \"width\": 0.5}}, \"type\": \"bar\"}], \"barpolar\": [{\"marker\": {\"line\": {\"color\": \"#E5ECF6\", \"width\": 0.5}}, \"type\": \"barpolar\"}], \"carpet\": [{\"aaxis\": {\"endlinecolor\": \"#2a3f5f\", \"gridcolor\": \"white\", \"linecolor\": \"white\", \"minorgridcolor\": \"white\", \"startlinecolor\": \"#2a3f5f\"}, \"baxis\": {\"endlinecolor\": \"#2a3f5f\", \"gridcolor\": \"white\", \"linecolor\": \"white\", \"minorgridcolor\": \"white\", \"startlinecolor\": \"#2a3f5f\"}, \"type\": \"carpet\"}], \"choropleth\": [{\"colorbar\": {\"outlinewidth\": 0, \"ticks\": \"\"}, \"type\": \"choropleth\"}], \"contour\": [{\"colorbar\": {\"outlinewidth\": 0, \"ticks\": \"\"}, \"colorscale\": [[0.0, \"#0d0887\"], [0.1111111111111111, \"#46039f\"], [0.2222222222222222, \"#7201a8\"], [0.3333333333333333, \"#9c179e\"], [0.4444444444444444, \"#bd3786\"], [0.5555555555555556, \"#d8576b\"], [0.6666666666666666, \"#ed7953\"], [0.7777777777777778, \"#fb9f3a\"], [0.8888888888888888, \"#fdca26\"], [1.0, \"#f0f921\"]], \"type\": \"contour\"}], \"contourcarpet\": [{\"colorbar\": {\"outlinewidth\": 0, \"ticks\": \"\"}, \"type\": \"contourcarpet\"}], \"heatmap\": [{\"colorbar\": {\"outlinewidth\": 0, \"ticks\": \"\"}, \"colorscale\": [[0.0, \"#0d0887\"], [0.1111111111111111, \"#46039f\"], [0.2222222222222222, \"#7201a8\"], [0.3333333333333333, \"#9c179e\"], [0.4444444444444444, \"#bd3786\"], [0.5555555555555556, \"#d8576b\"], [0.6666666666666666, \"#ed7953\"], [0.7777777777777778, \"#fb9f3a\"], [0.8888888888888888, \"#fdca26\"], [1.0, \"#f0f921\"]], \"type\": \"heatmap\"}], \"heatmapgl\": [{\"colorbar\": {\"outlinewidth\": 0, \"ticks\": \"\"}, \"colorscale\": [[0.0, \"#0d0887\"], [0.1111111111111111, \"#46039f\"], [0.2222222222222222, \"#7201a8\"], [0.3333333333333333, \"#9c179e\"], [0.4444444444444444, \"#bd3786\"], [0.5555555555555556, \"#d8576b\"], [0.6666666666666666, \"#ed7953\"], [0.7777777777777778, \"#fb9f3a\"], [0.8888888888888888, \"#fdca26\"], [1.0, \"#f0f921\"]], \"type\": \"heatmapgl\"}], \"histogram\": [{\"marker\": {\"colorbar\": {\"outlinewidth\": 0, \"ticks\": \"\"}}, \"type\": \"histogram\"}], \"histogram2d\": [{\"colorbar\": {\"outlinewidth\": 0, \"ticks\": \"\"}, \"colorscale\": [[0.0, \"#0d0887\"], [0.1111111111111111, \"#46039f\"], [0.2222222222222222, \"#7201a8\"], [0.3333333333333333, \"#9c179e\"], [0.4444444444444444, \"#bd3786\"], [0.5555555555555556, \"#d8576b\"], [0.6666666666666666, \"#ed7953\"], [0.7777777777777778, \"#fb9f3a\"], [0.8888888888888888, \"#fdca26\"], [1.0, \"#f0f921\"]], \"type\": \"histogram2d\"}], \"histogram2dcontour\": [{\"colorbar\": {\"outlinewidth\": 0, \"ticks\": \"\"}, \"colorscale\": [[0.0, \"#0d0887\"], [0.1111111111111111, \"#46039f\"], [0.2222222222222222, \"#7201a8\"], [0.3333333333333333, \"#9c179e\"], [0.4444444444444444, \"#bd3786\"], [0.5555555555555556, \"#d8576b\"], [0.6666666666666666, \"#ed7953\"], [0.7777777777777778, \"#fb9f3a\"], [0.8888888888888888, \"#fdca26\"], [1.0, \"#f0f921\"]], \"type\": \"histogram2dcontour\"}], \"mesh3d\": [{\"colorbar\": {\"outlinewidth\": 0, \"ticks\": \"\"}, \"type\": \"mesh3d\"}], \"parcoords\": [{\"line\": {\"colorbar\": {\"outlinewidth\": 0, \"ticks\": \"\"}}, \"type\": \"parcoords\"}], \"scatter\": [{\"marker\": {\"colorbar\": {\"outlinewidth\": 0, \"ticks\": \"\"}}, \"type\": \"scatter\"}], \"scatter3d\": [{\"line\": {\"colorbar\": {\"outlinewidth\": 0, \"ticks\": \"\"}}, \"marker\": {\"colorbar\": {\"outlinewidth\": 0, \"ticks\": \"\"}}, \"type\": \"scatter3d\"}], \"scattercarpet\": [{\"marker\": {\"colorbar\": {\"outlinewidth\": 0, \"ticks\": \"\"}}, \"type\": \"scattercarpet\"}], \"scattergeo\": [{\"marker\": {\"colorbar\": {\"outlinewidth\": 0, \"ticks\": \"\"}}, \"type\": \"scattergeo\"}], \"scattergl\": [{\"marker\": {\"colorbar\": {\"outlinewidth\": 0, \"ticks\": \"\"}}, \"type\": \"scattergl\"}], \"scattermapbox\": [{\"marker\": {\"colorbar\": {\"outlinewidth\": 0, \"ticks\": \"\"}}, \"type\": \"scattermapbox\"}], \"scatterpolar\": [{\"marker\": {\"colorbar\": {\"outlinewidth\": 0, \"ticks\": \"\"}}, \"type\": \"scatterpolar\"}], \"scatterpolargl\": [{\"marker\": {\"colorbar\": {\"outlinewidth\": 0, \"ticks\": \"\"}}, \"type\": \"scatterpolargl\"}], \"scatterternary\": [{\"marker\": {\"colorbar\": {\"outlinewidth\": 0, \"ticks\": \"\"}}, \"type\": \"scatterternary\"}], \"surface\": [{\"colorbar\": {\"outlinewidth\": 0, \"ticks\": \"\"}, \"colorscale\": [[0.0, \"#0d0887\"], [0.1111111111111111, \"#46039f\"], [0.2222222222222222, \"#7201a8\"], [0.3333333333333333, \"#9c179e\"], [0.4444444444444444, \"#bd3786\"], [0.5555555555555556, \"#d8576b\"], [0.6666666666666666, \"#ed7953\"], [0.7777777777777778, \"#fb9f3a\"], [0.8888888888888888, \"#fdca26\"], [1.0, \"#f0f921\"]], \"type\": \"surface\"}], \"table\": [{\"cells\": {\"fill\": {\"color\": \"#EBF0F8\"}, \"line\": {\"color\": \"white\"}}, \"header\": {\"fill\": {\"color\": \"#C8D4E3\"}, \"line\": {\"color\": \"white\"}}, \"type\": \"table\"}]}, \"layout\": {\"annotationdefaults\": {\"arrowcolor\": \"#2a3f5f\", \"arrowhead\": 0, \"arrowwidth\": 1}, \"colorscale\": {\"diverging\": [[0, \"#8e0152\"], [0.1, \"#c51b7d\"], [0.2, \"#de77ae\"], [0.3, \"#f1b6da\"], [0.4, \"#fde0ef\"], [0.5, \"#f7f7f7\"], [0.6, \"#e6f5d0\"], [0.7, \"#b8e186\"], [0.8, \"#7fbc41\"], [0.9, \"#4d9221\"], [1, \"#276419\"]], \"sequential\": [[0.0, \"#0d0887\"], [0.1111111111111111, \"#46039f\"], [0.2222222222222222, \"#7201a8\"], [0.3333333333333333, \"#9c179e\"], [0.4444444444444444, \"#bd3786\"], [0.5555555555555556, \"#d8576b\"], [0.6666666666666666, \"#ed7953\"], [0.7777777777777778, \"#fb9f3a\"], [0.8888888888888888, \"#fdca26\"], [1.0, \"#f0f921\"]], \"sequentialminus\": [[0.0, \"#0d0887\"], [0.1111111111111111, \"#46039f\"], [0.2222222222222222, \"#7201a8\"], [0.3333333333333333, \"#9c179e\"], [0.4444444444444444, \"#bd3786\"], [0.5555555555555556, \"#d8576b\"], [0.6666666666666666, \"#ed7953\"], [0.7777777777777778, \"#fb9f3a\"], [0.8888888888888888, \"#fdca26\"], [1.0, \"#f0f921\"]]}, \"colorway\": [\"#636efa\", \"#EF553B\", \"#00cc96\", \"#ab63fa\", \"#FFA15A\", \"#19d3f3\", \"#FF6692\", \"#B6E880\", \"#FF97FF\", \"#FECB52\"], \"font\": {\"color\": \"#2a3f5f\"}, \"geo\": {\"bgcolor\": \"white\", \"lakecolor\": \"white\", \"landcolor\": \"#E5ECF6\", \"showlakes\": true, \"showland\": true, \"subunitcolor\": \"white\"}, \"hoverlabel\": {\"align\": \"left\"}, \"hovermode\": \"closest\", \"mapbox\": {\"style\": \"light\"}, \"paper_bgcolor\": \"white\", \"plot_bgcolor\": \"#E5ECF6\", \"polar\": {\"angularaxis\": {\"gridcolor\": \"white\", \"linecolor\": \"white\", \"ticks\": \"\"}, \"bgcolor\": \"#E5ECF6\", \"radialaxis\": {\"gridcolor\": \"white\", \"linecolor\": \"white\", \"ticks\": \"\"}}, \"scene\": {\"xaxis\": {\"backgroundcolor\": \"#E5ECF6\", \"gridcolor\": \"white\", \"gridwidth\": 2, \"linecolor\": \"white\", \"showbackground\": true, \"ticks\": \"\", \"zerolinecolor\": \"white\"}, \"yaxis\": {\"backgroundcolor\": \"#E5ECF6\", \"gridcolor\": \"white\", \"gridwidth\": 2, \"linecolor\": \"white\", \"showbackground\": true, \"ticks\": \"\", \"zerolinecolor\": \"white\"}, \"zaxis\": {\"backgroundcolor\": \"#E5ECF6\", \"gridcolor\": \"white\", \"gridwidth\": 2, \"linecolor\": \"white\", \"showbackground\": true, \"ticks\": \"\", \"zerolinecolor\": \"white\"}}, \"shapedefaults\": {\"line\": {\"color\": \"#2a3f5f\"}}, \"ternary\": {\"aaxis\": {\"gridcolor\": \"white\", \"linecolor\": \"white\", \"ticks\": \"\"}, \"baxis\": {\"gridcolor\": \"white\", \"linecolor\": \"white\", \"ticks\": \"\"}, \"bgcolor\": \"#E5ECF6\", \"caxis\": {\"gridcolor\": \"white\", \"linecolor\": \"white\", \"ticks\": \"\"}}, \"title\": {\"x\": 0.05}, \"xaxis\": {\"automargin\": true, \"gridcolor\": \"white\", \"linecolor\": \"white\", \"ticks\": \"\", \"zerolinecolor\": \"white\", \"zerolinewidth\": 2}, \"yaxis\": {\"automargin\": true, \"gridcolor\": \"white\", \"linecolor\": \"white\", \"ticks\": \"\", \"zerolinecolor\": \"white\", \"zerolinewidth\": 2}}}, \"title\": {\"text\": \"Geographical Distribution of Loans\"}},\n",
       "                        {\"responsive\": true}\n",
       "                    ).then(function(){\n",
       "                            \n",
       "var gd = document.getElementById('2843a229-84a9-426d-a0c3-0208954db509');\n",
       "var x = new MutationObserver(function (mutations, observer) {{\n",
       "        var display = window.getComputedStyle(gd).display;\n",
       "        if (!display || display === 'none') {{\n",
       "            console.log([gd, 'removed!']);\n",
       "            Plotly.purge(gd);\n",
       "            observer.disconnect();\n",
       "        }}\n",
       "}});\n",
       "\n",
       "// Listen for the removal of the full notebook cells\n",
       "var notebookContainer = gd.closest('#notebook-container');\n",
       "if (notebookContainer) {{\n",
       "    x.observe(notebookContainer, {childList: true});\n",
       "}}\n",
       "\n",
       "// Listen for the clearing of the current output cell\n",
       "var outputEl = gd.closest('.output');\n",
       "if (outputEl) {{\n",
       "    x.observe(outputEl, {childList: true});\n",
       "}}\n",
       "\n",
       "                        })\n",
       "                };\n",
       "                });\n",
       "            </script>\n",
       "        </div>"
      ]
     },
     "metadata": {},
     "output_type": "display_data"
    }
   ],
   "source": [
    "'''Now it comes the part where we plot out plotly United States map'''\n",
    "import chart_studio.plotly as py\n",
    "import plotly.graph_objs as go\n",
    "from plotly.offline import iplot\n",
    "\n",
    "\n",
    "for col in metrics_df.columns:\n",
    "    metrics_df[col] = metrics_df[col].astype(str)\n",
    "    \n",
    "scl = [[0.0, 'rgb(210, 241, 198)'],[0.2, 'rgb(188, 236, 169)'],[0.4, 'rgb(171, 235, 145)'],\\\n",
    "            [0.6, 'rgb(140, 227, 105)'],[0.8, 'rgb(105, 201, 67)'],[1.0, 'rgb(59, 159, 19)']]\n",
    "\n",
    "metrics_df['text'] = metrics_df['state_codes'] + '<br>' +\\\n",
    "'Average loan interest rate: ' + metrics_df['interest_rate'] + '<br>'+\\\n",
    "'Average annual income: ' + metrics_df['annual_income'] \n",
    "\n",
    "\n",
    "data = [ dict(\n",
    "        type='choropleth',\n",
    "        colorscale = scl,\n",
    "        autocolorscale = False,\n",
    "        locations = metrics_df['state_codes'],\n",
    "        z = metrics_df['issued_loans'], \n",
    "        locationmode = 'USA-states',\n",
    "        text = metrics_df['text'],\n",
    "        marker = dict(\n",
    "            line = dict (\n",
    "                color = 'rgb(255,255,255)',\n",
    "                width = 2\n",
    "            ) ),\n",
    "        colorbar = dict(\n",
    "            title = \"$s USD\")\n",
    "        ) ]\n",
    "\n",
    "\n",
    "layout = dict(\n",
    "    title = 'Geographical Distribution of Loans',\n",
    "    geo = dict(\n",
    "        scope = 'usa',\n",
    "        projection=dict(type='albers usa'),\n",
    "        showlakes = True,\n",
    "        lakecolor = 'rgb(255, 255, 255)')\n",
    ")\n",
    "\n",
    "fig = dict(data=data, layout=layout)\n",
    "iplot(fig, filename='d3-cloropleth-map')"
   ]
  },
  {
   "cell_type": "code",
   "execution_count": 49,
   "metadata": {},
   "outputs": [
    {
     "data": {
      "image/png": "[encoded data removed]",
      "text/plain": [
       "<Figure size 1080x720 with 1 Axes>"
      ]
     },
     "metadata": {},
     "output_type": "display_data"
    }
   ],
   "source": [
    "plt.style.use('fivethirtyeight')\n",
    "plt.figure(figsize=(15, 10))\n",
    "\n",
    "sns.lineplot(x=loan_data['issue_d'].dt.year, y=\"loan_amnt\", hue=\"region\", data=loan_data)\n",
    "\n",
    "plt.title('Region-wise Loan Distribution')\n",
    "plt.xlabel('Year')\n",
    "plt.ylabel('Average Loan Amount (in dollars)')\n",
    "\n",
    "plt.show()"
   ]
  },
  {
   "cell_type": "code",
   "execution_count": null,
   "metadata": {},
   "outputs": [],
   "source": []
  }
 ],
 "metadata": {
  "kernelspec": {
   "display_name": "Python 3",
   "language": "python",
   "name": "python3"
  },
  "language_info": {
   "codemirror_mode": {
    "name": "ipython",
    "version": 3
   },
   "file_extension": ".py",
   "mimetype": "text/x-python",
   "name": "python",
   "nbconvert_exporter": "python",
   "pygments_lexer": "ipython3",
   "version": "3.6.8"
  }
 },
 "nbformat": 4,
 "nbformat_minor": 2
}
