{
 "cells": [
  {
   "cell_type": "markdown",
   "metadata": {
    "slideshow": {
     "slide_type": "slide"
    }
   },
   "source": [
    "<h1 align=\"center\"> Statistical Learning of the Lending Club Loans </h1>\n",
    "<h4 align=\"center\"> (Data Cleaning, Praparation and Visualization) </h4>\n",
    "<br><br>\n",
    "<h4 align=\"center\"> By Sanatan Das </h4>\n",
    "<h4 align=\"center\"> Dec 04, 2019 </h4>"
   ]
  },
  {
   "cell_type": "markdown",
   "metadata": {
    "slideshow": {
     "slide_type": "slide"
    }
   },
   "source": [
    "<h1> Lending Club </h1>\n",
    "<p>LendingClub is an American peer-to-peer lending company, headquartered in San Francisco, California. LendingClub enables borrowers to create unsecured personal loans.</p>\n",
    "\n",
    "<h2> At a glance </h2>\n",
    "\n",
    "- Founded : 2006; 13 years ago\n",
    "- Headquarter : \t595 Market Street, San Francisco, California, USA\n",
    "- Revenue : US$574.5 million (2017)\n",
    "- Number of Employees : 1,837 (2017)\n",
    "- Website : lendingclub.com\n",
    "\n",
    "[Source](https://en.wikipedia.org/wiki/LendingClub)"
   ]
  },
  {
   "cell_type": "code",
   "execution_count": 1,
   "metadata": {},
   "outputs": [
    {
     "ename": "SyntaxError",
     "evalue": "invalid syntax (<ipython-input-1-f34dfebc9440>, line 1)",
     "output_type": "error",
     "traceback": [
      "\u001b[0;36m  File \u001b[0;32m\"<ipython-input-1-f34dfebc9440>\"\u001b[0;36m, line \u001b[0;32m1\u001b[0m\n\u001b[0;31m    <h1> About the data </h1>\u001b[0m\n\u001b[0m    ^\u001b[0m\n\u001b[0;31mSyntaxError\u001b[0m\u001b[0;31m:\u001b[0m invalid syntax\n"
     ]
    }
   ],
   "source": [
    "<h1> About the data </h1>\n",
    "<p>LendingClub published their complete loan dataset for all loans issued through the 2007-2018, \n",
    "including the current loan status (Current, Late, Fully Paid, etc.) and latest payment information.</p>\n",
    "\n",
    "<h2> Dataset Summary </h2>\n",
    "\n",
    "- Number of Rows : 2.26 millions\n",
    "- Number of Columns : 145\n",
    "- Size : 1.3 GB\n",
    "- Number of Employees : 1,837 (2017)\n",
    "- Website : lendingclub.com"
   ]
  },
  {
   "cell_type": "markdown",
   "metadata": {
    "slideshow": {
     "slide_type": "slide"
    }
   },
   "source": [
    "<div align=\"center\", height=\"100%\", width=\"100%\">\n",
    "    <img src=\"plots/1.png\" />\n",
    "</div>"
   ]
  },
  {
   "cell_type": "markdown",
   "metadata": {
    "slideshow": {
     "slide_type": "slide"
    }
   },
   "source": [
    "<style>\n",
    "    img {\n",
    "    max-width: 100%;\n",
    "    max-height: 100%;\n",
    "    }\n",
    "</style>\n",
    "<div align=\"center\", height=\"100%\", width=\"100%\">\n",
    "    <img src=\"plots/2.png\" />\n",
    "</div>"
   ]
  },
  {
   "cell_type": "markdown",
   "metadata": {
    "slideshow": {
     "slide_type": "slide"
    }
   },
   "source": [
    "<style>\n",
    "    img {\n",
    "    max-width: 100%;\n",
    "    max-height: 100%;\n",
    "    }\n",
    "</style>\n",
    "<div align=\"center\", height=\"100%\", width=\"100%\">\n",
    "    <img src=\"plots/3.png\" />\n",
    "</div>"
   ]
  },
  {
   "cell_type": "markdown",
   "metadata": {
    "slideshow": {
     "slide_type": "slide"
    }
   },
   "source": [
    "<style>\n",
    "    img {\n",
    "    max-width: 100%;\n",
    "    max-height: 100%;\n",
    "    }\n",
    "</style>\n",
    "<div align=\"center\", height=\"100%\", width=\"100%\">\n",
    "    <img src=\"plots/4.png\" />\n",
    "</div>"
   ]
  },
  {
   "cell_type": "markdown",
   "metadata": {
    "slideshow": {
     "slide_type": "slide"
    }
   },
   "source": [
    "<style>\n",
    "    img {\n",
    "    max-width: 100%;\n",
    "    max-height: 100%;\n",
    "    }\n",
    "</style>\n",
    "<div align=\"center\", height=\"100%\", width=\"100%\">\n",
    "    <img src=\"plots/5.png\" />\n",
    "</div>"
   ]
  },
  {
   "cell_type": "markdown",
   "metadata": {
    "slideshow": {
     "slide_type": "slide"
    }
   },
   "source": [
    "<style>\n",
    "    img {\n",
    "    max-width: 100%;\n",
    "    max-height: 100%;\n",
    "    }\n",
    "</style>\n",
    "<div align=\"center\", height=\"100%\", width=\"100%\">\n",
    "    <img src=\"plots/6.png\" />\n",
    "</div>"
   ]
  },
  {
   "cell_type": "markdown",
   "metadata": {
    "slideshow": {
     "slide_type": "slide"
    }
   },
   "source": [
    "<style>\n",
    "    img {\n",
    "    max-width: 100%;\n",
    "    max-height: 100%;\n",
    "    }\n",
    "</style>\n",
    "<div align=\"center\", height=\"100%\", width=\"100%\">\n",
    "    <img src=\"plots/27.png\" />\n",
    "</div>"
   ]
  }
 ],
 "metadata": {
  "celltoolbar": "Slideshow",
  "kernelspec": {
   "display_name": "Python 3",
   "language": "python",
   "name": "python3"
  },
  "language_info": {
   "codemirror_mode": {
    "name": "ipython",
    "version": 3
   },
   "file_extension": ".py",
   "mimetype": "text/x-python",
   "name": "python",
   "nbconvert_exporter": "python",
   "pygments_lexer": "ipython3",
   "version": "3.6.9"
  }
 },
 "nbformat": 4,
 "nbformat_minor": 2
}
