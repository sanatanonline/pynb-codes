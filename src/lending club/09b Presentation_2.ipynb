{
 "cells": [
  {
   "cell_type": "markdown",
   "metadata": {
    "slideshow": {
     "slide_type": "slide"
    }
   },
   "source": [
    "<h1 align=\"center\"> Statistical Learning of the Lending Club Loans </h1>\n",
    "<h4 align=\"center\"> (Data Cleaning, Praparation and Visualization) </h4>\n",
    "<br><br>\n",
    "<h4 align=\"center\"> By Sanatan Das </h4>\n",
    "<h4 align=\"center\"> Dec 04, 2019 </h4>"
   ]
  },
  {
   "cell_type": "markdown",
   "metadata": {
    "slideshow": {
     "slide_type": "slide"
    }
   },
   "source": [
    "<div align=\"center\", height=\"100%\", width=\"100%\">\n",
    "    <img src=\"plots/1.png\" />\n",
    "</div>"
   ]
  },
  {
   "cell_type": "markdown",
   "metadata": {
    "slideshow": {
     "slide_type": "slide"
    }
   },
   "source": [
    "<style>\n",
    "    img {\n",
    "    max-width: 100%;\n",
    "    max-height: 100%;\n",
    "    }\n",
    "</style>\n",
    "<div align=\"center\", height=\"100%\", width=\"100%\">\n",
    "    <img src=\"plots/2.png\" />\n",
    "</div>"
   ]
  },
  {
   "cell_type": "markdown",
   "metadata": {
    "slideshow": {
     "slide_type": "slide"
    }
   },
   "source": [
    "<style>\n",
    "    img {\n",
    "    max-width: 100%;\n",
    "    max-height: 100%;\n",
    "    }\n",
    "</style>\n",
    "<div align=\"center\", height=\"100%\", width=\"100%\">\n",
    "    <img src=\"plots/3.png\" />\n",
    "</div>"
   ]
  },
  {
   "cell_type": "markdown",
   "metadata": {
    "slideshow": {
     "slide_type": "slide"
    }
   },
   "source": [
    "<style>\n",
    "    img {\n",
    "    max-width: 100%;\n",
    "    max-height: 100%;\n",
    "    }\n",
    "</style>\n",
    "<div align=\"center\", height=\"100%\", width=\"100%\">\n",
    "    <img src=\"plots/4.png\" />\n",
    "</div>"
   ]
  },
  {
   "cell_type": "markdown",
   "metadata": {
    "slideshow": {
     "slide_type": "slide"
    }
   },
   "source": [
    "<style>\n",
    "    img {\n",
    "    max-width: 100%;\n",
    "    max-height: 100%;\n",
    "    }\n",
    "</style>\n",
    "<div align=\"center\", height=\"100%\", width=\"100%\">\n",
    "    <img src=\"plots/5.png\" />\n",
    "</div>"
   ]
  },
  {
   "cell_type": "markdown",
   "metadata": {
    "slideshow": {
     "slide_type": "slide"
    }
   },
   "source": [
    "<style>\n",
    "    img {\n",
    "    max-width: 100%;\n",
    "    max-height: 100%;\n",
    "    }\n",
    "</style>\n",
    "<div align=\"center\", height=\"100%\", width=\"100%\">\n",
    "    <img src=\"plots/6.png\" />\n",
    "</div>"
   ]
  },
  {
   "cell_type": "markdown",
   "metadata": {
    "slideshow": {
     "slide_type": "slide"
    }
   },
   "source": [
    "<style>\n",
    "    img {\n",
    "    max-width: 100%;\n",
    "    max-height: 100%;\n",
    "    }\n",
    "</style>\n",
    "<div align=\"center\", height=\"100%\", width=\"100%\">\n",
    "    <img src=\"plots/27.png\" />\n",
    "</div>"
   ]
  }
 ],
 "metadata": {
  "celltoolbar": "Slideshow",
  "kernelspec": {
   "display_name": "Python 3",
   "language": "python",
   "name": "python3"
  },
  "language_info": {
   "codemirror_mode": {
    "name": "ipython",
    "version": 3
   },
   "file_extension": ".py",
   "mimetype": "text/x-python",
   "name": "python",
   "nbconvert_exporter": "python",
   "pygments_lexer": "ipython3",
   "version": "3.6.9"
  }
 },
 "nbformat": 4,
 "nbformat_minor": 2
}
