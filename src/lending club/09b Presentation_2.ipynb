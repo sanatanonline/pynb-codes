{
 "cells": [
  {
   "cell_type": "markdown",
   "metadata": {
    "slideshow": {
     "slide_type": "slide"
    }
   },
   "source": [
    "<h1 align=\"center\"> A Quantitative Analysis of the Lending Club Loans </h1>\n",
    "<h4 align=\"center\"> (Data Cleaning, Praparation and Visualization) </h4>\n",
    "<br>\n",
    "<h4 align=\"center\"> Dec 18, 2019 </h4>"
   ]
  },
  {
   "cell_type": "markdown",
   "metadata": {
    "slideshow": {
     "slide_type": "slide"
    }
   },
   "source": [
    "<h1> Lending Club </h1>\n",
    "<p>LendingClub is an American peer-to-peer lending company, headquartered in San Francisco, California. LendingClub enables borrowers to create unsecured personal loans.</p>\n",
    "\n",
    "<h2> Lending Club - at a glance </h2>\n",
    "\n",
    "- Founded : 2006; 13 years ago\n",
    "- Headquarter : \t595 Market Street, San Francisco, California, USA\n",
    "- Revenue : US$574.5 million (2017)\n",
    "- Number of Employees : 1,837 (2017)\n",
    "- Website : lendingclub.com\n",
    "\n",
    "[Source](https://en.wikipedia.org/wiki/LendingClub)"
   ]
  },
  {
   "cell_type": "markdown",
   "metadata": {
    "slideshow": {
     "slide_type": "slide"
    }
   },
   "source": [
    "<h1> About the Data </h1>\n",
    "<p>LendingClub published their complete loan dataset for all loans issued through the 2007-2018, \n",
    "including the current loan status (Current, Late, Fully Paid, etc.) and latest payment information.</p>\n",
    "\n",
    "<h2> Dataset Summary </h2>\n",
    "\n",
    "- Number of Rows : 2.26 millions (each representing one loan application)\n",
    "- Number of Columns : 145\n",
    "- Size : 1.3 GB (pretty big for analyzing in a laptop :O)\n",
    "\n",
    "[Download](https://www.kaggle.com/wendykan/lending-club-loan-data)"
   ]
  },
  {
   "cell_type": "markdown",
   "metadata": {
    "slideshow": {
     "slide_type": "slide"
    }
   },
   "source": [
    "<h1> Goal of this Project </h1>\n",
    "<p>A quantitative analysis of the loan data to find out \n",
    "what are the factors causing risk for the issued loans.</p>\n",
    "\n",
    "<h2> Contents </h2>\n",
    "\n",
    "- Problem Statement \n",
    "- About the Data\n",
    "- Data Cleaning and Feature Creation\n",
    "- Data Analysis and Visualization\n",
    "- Models and Evaluation"
   ]
  },
  {
   "cell_type": "markdown",
   "metadata": {
    "slideshow": {
     "slide_type": "slide"
    }
   },
   "source": [
    "<h1> Problem Statement </h1>\n",
    "\n",
    "<p>Lending Club was founded in the year 2007. From the year 2007 - 2018, the company has lended over $45 B to its 2.5 M+ customers across US. Unfortunately, approximately 22% of the total loan applications has turned into a bad or risk loan where the customer was <b>charged off</b> or needed a <b>grace period</b> or ended up being <b>default</b>.</p>\n",
    "\n",
    "<p>We will do a statistical analysis of the existing loan applications to see what are the factor(s) that has caused the bad loans. Will create a model to predict the risk probability of the loans.</p>"
   ]
  },
  {
   "cell_type": "markdown",
   "metadata": {
    "slideshow": {
     "slide_type": "slide"
    }
   },
   "source": [
    "<h1> About the Data </h1>\n",
    "\n",
    "- Shape: (2260668, 145)\n",
    "- Numeric: 109 columns, Categorical: 36 columns\n",
    "- Missing Records:\n",
    "  - None             32 columns\n",
    "  - less than 10%    54 columns\n",
    "  - 10 to 20%         1 columns\n",
    "  - 30 to 40%        12 columns\n",
    "  - 40 to 50%         2 columns\n",
    "  - 50 to 75%         6 columns\n",
    "  - 90 to <100%      35 columns\n",
    "  - 100%              3 columns\n",
    "  \n"
   ]
  },
  {
   "cell_type": "markdown",
   "metadata": {
    "slideshow": {
     "slide_type": "slide"
    }
   },
   "source": [
    "<h1> Data Cleaning and Feature Creation </h1>\n",
    "\n",
    "- Removed 109 columns (from domain expert :))\n",
    "- Removed the 'Current' Loans as we need to do the historical analysis.\n",
    "- Filled in the missing values (mean, median, mode or regigion average etc.)\n",
    "- Created new variables:\n",
    "  - risk_n:            0/1 (0 = good loan, 1 = bad loan)\n",
    "  - risk_c:            Risk/No Risk\n",
    "  - region:            Created from different states\n",
    "  - age_of_credit:     age of credit in number of days (created from earliest_cr_line)\n",
    "- String date(s) are converted to datetime"
   ]
  },
  {
   "cell_type": "markdown",
   "metadata": {
    "slideshow": {
     "slide_type": "slide"
    }
   },
   "source": [
    "<h1 align=\"center\"> Data Analysis and Visualization </h1>\n",
    "<br>\n",
    "<h4 align=\"center\"> Let's see some pictures </h4>"
   ]
  },
  {
   "cell_type": "markdown",
   "metadata": {
    "slideshow": {
     "slide_type": "slide"
    }
   },
   "source": [
    "<div align=\"center\", height=\"100%\", width=\"100%\">\n",
    "    <img src=\"plots/1.png\" />\n",
    "</div>"
   ]
  },
  {
   "cell_type": "markdown",
   "metadata": {
    "slideshow": {
     "slide_type": "slide"
    }
   },
   "source": [
    "<style>\n",
    "    img {\n",
    "    max-width: 100%;\n",
    "    max-height: 100%;\n",
    "    }\n",
    "</style>\n",
    "<div align=\"center\", height=\"100%\", width=\"100%\">\n",
    "    <img src=\"plots/2.png\" />\n",
    "</div>"
   ]
  },
  {
   "cell_type": "markdown",
   "metadata": {
    "slideshow": {
     "slide_type": "slide"
    }
   },
   "source": [
    "<div align=\"center\", height=\"100%\", width=\"100%\">\n",
    "    <img src=\"plots/3.png\" />\n",
    "</div>"
   ]
  },
  {
   "cell_type": "markdown",
   "metadata": {
    "slideshow": {
     "slide_type": "slide"
    }
   },
   "source": [
    "<div align=\"center\", height=\"100%\", width=\"100%\">\n",
    "    <img src=\"plots/4.png\" />\n",
    "</div>"
   ]
  },
  {
   "cell_type": "markdown",
   "metadata": {
    "slideshow": {
     "slide_type": "slide"
    }
   },
   "source": [
    "<div align=\"center\", height=\"100%\", width=\"100%\">\n",
    "    <img src=\"plots/5.png\" />\n",
    "</div>"
   ]
  },
  {
   "cell_type": "markdown",
   "metadata": {
    "slideshow": {
     "slide_type": "slide"
    }
   },
   "source": [
    "<div align=\"center\", height=\"100%\", width=\"100%\">\n",
    "    <img src=\"plots/6.png\" />\n",
    "</div>"
   ]
  },
  {
   "cell_type": "markdown",
   "metadata": {
    "slideshow": {
     "slide_type": "slide"
    }
   },
   "source": [
    "<div align=\"center\", height=\"100%\", width=\"100%\">\n",
    "    <img src=\"plots/7.png\" />\n",
    "</div>"
   ]
  },
  {
   "cell_type": "markdown",
   "metadata": {
    "slideshow": {
     "slide_type": "slide"
    }
   },
   "source": [
    "<div align=\"center\", height=\"100%\", width=\"100%\">\n",
    "    <img src=\"plots/8.png\" />\n",
    "</div>"
   ]
  },
  {
   "cell_type": "markdown",
   "metadata": {
    "slideshow": {
     "slide_type": "slide"
    }
   },
   "source": [
    "<h1 align=\"center\"> More Visualization </h1>\n",
    "<br><br>\n",
    "<h4 align=\"center\"> Some more pictures </h4>"
   ]
  },
  {
   "cell_type": "markdown",
   "metadata": {
    "slideshow": {
     "slide_type": "slide"
    }
   },
   "source": [
    "<div align=\"center\", height=\"100%\", width=\"100%\">\n",
    "    <img src=\"plots/9.png\" />\n",
    "</div>"
   ]
  },
  {
   "cell_type": "markdown",
   "metadata": {
    "slideshow": {
     "slide_type": "slide"
    }
   },
   "source": [
    "<div align=\"center\", height=\"100%\", width=\"100%\">\n",
    "    <img src=\"plots/48.png\" />\n",
    "</div>"
   ]
  },
  {
   "cell_type": "markdown",
   "metadata": {
    "slideshow": {
     "slide_type": "slide"
    }
   },
   "source": [
    "<div align=\"center\", height=\"100%\", width=\"100%\">\n",
    "    <img src=\"plots/49.png\" />\n",
    "</div>"
   ]
  },
  {
   "cell_type": "markdown",
   "metadata": {
    "slideshow": {
     "slide_type": "slide"
    }
   },
   "source": [
    "<div align=\"center\", height=\"100%\", width=\"100%\">\n",
    "    <img src=\"plots/50.png\" />\n",
    "</div>"
   ]
  },
  {
   "cell_type": "markdown",
   "metadata": {
    "slideshow": {
     "slide_type": "slide"
    }
   },
   "source": [
    "<div align=\"center\", height=\"100%\", width=\"100%\">\n",
    "    <img src=\"plots/25.png\" />\n",
    "</div>"
   ]
  },
  {
   "cell_type": "markdown",
   "metadata": {
    "slideshow": {
     "slide_type": "slide"
    }
   },
   "source": [
    "<div align=\"center\", height=\"100%\", width=\"100%\">\n",
    "    <img src=\"plots/26.png\" />\n",
    "</div>"
   ]
  },
  {
   "cell_type": "markdown",
   "metadata": {
    "slideshow": {
     "slide_type": "slide"
    }
   },
   "source": [
    "<div align=\"center\", height=\"100%\", width=\"100%\">\n",
    "    <img src=\"plots/10.png\" />\n",
    "</div>"
   ]
  },
  {
   "cell_type": "markdown",
   "metadata": {
    "slideshow": {
     "slide_type": "slide"
    }
   },
   "source": [
    "<div align=\"center\", height=\"100%\", width=\"100%\">\n",
    "    <img src=\"plots/11.png\" />\n",
    "</div>"
   ]
  },
  {
   "cell_type": "markdown",
   "metadata": {
    "slideshow": {
     "slide_type": "slide"
    }
   },
   "source": [
    "<div align=\"center\", height=\"100%\", width=\"100%\">\n",
    "    <img src=\"plots/46.png\" />\n",
    "</div>"
   ]
  },
  {
   "cell_type": "markdown",
   "metadata": {
    "slideshow": {
     "slide_type": "slide"
    }
   },
   "source": [
    "<div align=\"center\", height=\"100%\", width=\"100%\">\n",
    "    <img src=\"plots/47.png\" />\n",
    "</div>"
   ]
  },
  {
   "cell_type": "markdown",
   "metadata": {
    "slideshow": {
     "slide_type": "slide"
    }
   },
   "source": [
    "<div align=\"center\", height=\"100%\", width=\"100%\">\n",
    "    <img src=\"plots/27.png\" />\n",
    "</div>"
   ]
  },
  {
   "cell_type": "markdown",
   "metadata": {
    "slideshow": {
     "slide_type": "slide"
    }
   },
   "source": [
    "<div align=\"center\", height=\"100%\", width=\"100%\">\n",
    "    <img src=\"plots/28.png\" />\n",
    "</div>"
   ]
  },
  {
   "cell_type": "markdown",
   "metadata": {
    "slideshow": {
     "slide_type": "slide"
    }
   },
   "source": [
    "<div align=\"center\", height=\"100%\", width=\"100%\">\n",
    "    <img src=\"plots/29.png\" />\n",
    "</div>"
   ]
  },
  {
   "cell_type": "markdown",
   "metadata": {
    "slideshow": {
     "slide_type": "slide"
    }
   },
   "source": [
    "<div align=\"center\", height=\"100%\", width=\"100%\">\n",
    "    <img src=\"plots/30.png\" />\n",
    "</div>"
   ]
  },
  {
   "cell_type": "markdown",
   "metadata": {
    "slideshow": {
     "slide_type": "slide"
    }
   },
   "source": [
    "<div align=\"center\", height=\"100%\", width=\"100%\">\n",
    "    <img src=\"plots/31.png\" />\n",
    "</div>"
   ]
  },
  {
   "cell_type": "markdown",
   "metadata": {
    "slideshow": {
     "slide_type": "slide"
    }
   },
   "source": [
    "<div align=\"center\", height=\"100%\", width=\"100%\">\n",
    "    <img src=\"plots/13.png\" />\n",
    "</div>"
   ]
  },
  {
   "cell_type": "markdown",
   "metadata": {
    "slideshow": {
     "slide_type": "slide"
    }
   },
   "source": [
    "<div align=\"center\", height=\"100%\", width=\"100%\">\n",
    "    <img src=\"plots/14.png\" />\n",
    "</div>"
   ]
  },
  {
   "cell_type": "markdown",
   "metadata": {
    "slideshow": {
     "slide_type": "slide"
    }
   },
   "source": [
    "<div align=\"center\", height=\"100%\", width=\"100%\">\n",
    "    <img src=\"plots/15.png\" />\n",
    "</div>"
   ]
  },
  {
   "cell_type": "markdown",
   "metadata": {
    "slideshow": {
     "slide_type": "slide"
    }
   },
   "source": [
    "<div align=\"center\", height=\"100%\", width=\"100%\">\n",
    "    <img src=\"plots/19.png\" />\n",
    "</div>"
   ]
  },
  {
   "cell_type": "markdown",
   "metadata": {},
   "source": [
    "<div align=\"center\", height=\"100%\", width=\"100%\">\n",
    "    <img src=\"plots/20.png\" />\n",
    "</div>"
   ]
  },
  {
   "cell_type": "markdown",
   "metadata": {
    "slideshow": {
     "slide_type": "slide"
    }
   },
   "source": [
    "<div align=\"center\", height=\"100%\", width=\"100%\">\n",
    "    <img src=\"plots/21.png\" />\n",
    "</div>"
   ]
  },
  {
   "cell_type": "markdown",
   "metadata": {
    "slideshow": {
     "slide_type": "slide"
    }
   },
   "source": [
    "<div align=\"center\", height=\"100%\", width=\"100%\">\n",
    "    <img src=\"plots/22.png\" />\n",
    "</div>"
   ]
  },
  {
   "cell_type": "markdown",
   "metadata": {
    "slideshow": {
     "slide_type": "slide"
    }
   },
   "source": [
    "<div align=\"center\", height=\"100%\", width=\"100%\">\n",
    "    <img src=\"plots/23.png\" />\n",
    "</div>"
   ]
  },
  {
   "cell_type": "markdown",
   "metadata": {
    "slideshow": {
     "slide_type": "slide"
    }
   },
   "source": [
    "<div align=\"center\", height=\"100%\", width=\"100%\">\n",
    "    <img src=\"plots/24.png\" />\n",
    "</div>"
   ]
  },
  {
   "cell_type": "markdown",
   "metadata": {
    "slideshow": {
     "slide_type": "slide"
    }
   },
   "source": [
    "<div align=\"center\", height=\"100%\", width=\"100%\">\n",
    "    <img src=\"plots/36.png\" />\n",
    "</div>"
   ]
  },
  {
   "cell_type": "markdown",
   "metadata": {
    "slideshow": {
     "slide_type": "slide"
    }
   },
   "source": [
    "<div align=\"center\", height=\"100%\", width=\"100%\">\n",
    "    <img src=\"plots/37.png\" />\n",
    "</div>"
   ]
  },
  {
   "cell_type": "markdown",
   "metadata": {
    "slideshow": {
     "slide_type": "slide"
    }
   },
   "source": [
    "<div align=\"center\", height=\"100%\", width=\"100%\">\n",
    "    <img src=\"plots/38.png\" />\n",
    "</div>"
   ]
  },
  {
   "cell_type": "markdown",
   "metadata": {
    "slideshow": {
     "slide_type": "slide"
    }
   },
   "source": [
    "<div align=\"center\", height=\"100%\", width=\"100%\">\n",
    "    <img src=\"plots/39.png\" />\n",
    "</div>"
   ]
  },
  {
   "cell_type": "markdown",
   "metadata": {
    "slideshow": {
     "slide_type": "slide"
    }
   },
   "source": [
    "<div align=\"center\", height=\"100%\", width=\"100%\">\n",
    "    <img src=\"plots/40.png\" />\n",
    "</div>"
   ]
  },
  {
   "cell_type": "markdown",
   "metadata": {
    "slideshow": {
     "slide_type": "slide"
    }
   },
   "source": [
    "<div align=\"center\", height=\"100%\", width=\"100%\">\n",
    "    <img src=\"plots/41.png\" />\n",
    "</div>"
   ]
  },
  {
   "cell_type": "markdown",
   "metadata": {
    "slideshow": {
     "slide_type": "slide"
    }
   },
   "source": [
    "<div align=\"center\", height=\"100%\", width=\"100%\">\n",
    "    <img src=\"plots/42.png\" />\n",
    "</div>"
   ]
  },
  {
   "cell_type": "markdown",
   "metadata": {
    "slideshow": {
     "slide_type": "slide"
    }
   },
   "source": [
    "<div align=\"center\", height=\"100%\", width=\"100%\">\n",
    "    <img src=\"plots/43.png\" />\n",
    "</div>"
   ]
  },
  {
   "cell_type": "markdown",
   "metadata": {
    "slideshow": {
     "slide_type": "slide"
    }
   },
   "source": [
    "<div align=\"center\", height=\"100%\", width=\"100%\">\n",
    "    <img src=\"plots/44.png\" />\n",
    "</div>"
   ]
  },
  {
   "cell_type": "markdown",
   "metadata": {
    "slideshow": {
     "slide_type": "slide"
    }
   },
   "source": [
    "<div align=\"center\", height=\"100%\", width=\"100%\">\n",
    "    <img src=\"plots/45.png\" />\n",
    "</div>"
   ]
  },
  {
   "cell_type": "markdown",
   "metadata": {
    "slideshow": {
     "slide_type": "slide"
    }
   },
   "source": [
    "<div align=\"center\", height=\"100%\", width=\"100%\">\n",
    "    <img src=\"plots/35.png\" />\n",
    "</div>"
   ]
  },
  {
   "cell_type": "markdown",
   "metadata": {
    "slideshow": {
     "slide_type": "slide"
    }
   },
   "source": [
    "<h1> Classification Models and Evaluation </h1>\n",
    "<p>The goal of the model is to predict the risk factor of a loan application</p>\n",
    "\n",
    "<h4> Logistic Regression </h4>\n",
    "- Accuracy Score: 0.7835698657324932 \n",
    "\n",
    "<h4> Neural Network (TensorFlow) </h4>\n",
    "- Loss:0.47585\t Accuracy:78.436%"
   ]
  },
  {
   "cell_type": "markdown",
   "metadata": {
    "slideshow": {
     "slide_type": "slide"
    }
   },
   "source": [
    "<div align=\"center\", height=\"100%\", width=\"100%\">\n",
    "    <img src=\"plots/32.png\" />\n",
    "</div>"
   ]
  },
  {
   "cell_type": "markdown",
   "metadata": {
    "slideshow": {
     "slide_type": "slide"
    }
   },
   "source": [
    "<div align=\"center\", height=\"100%\", width=\"100%\">\n",
    "    <img src=\"plots/33.png\" />\n",
    "</div>"
   ]
  },
  {
   "cell_type": "markdown",
   "metadata": {
    "slideshow": {
     "slide_type": "slide"
    }
   },
   "source": [
    "<div align=\"center\", height=\"100%\", width=\"100%\">\n",
    "    <img src=\"plots/34.png\" />\n",
    "</div>"
   ]
  },
  {
   "cell_type": "markdown",
   "metadata": {
    "slideshow": {
     "slide_type": "slide"
    }
   },
   "source": [
    "<h1> Where is the code? </h1>\n",
    "\n",
    "[GitHub](https://github.com/sanatanonline/pynb-codes/tree/master/src/lending%20club)\n",
    "\n",
    "<h1> Future Work </h1>\n",
    "\n",
    "- Better Data Prepation for ML\n",
    "- Feature Scaling\n",
    "- Model Performance Improvement"
   ]
  },
  {
   "cell_type": "markdown",
   "metadata": {
    "slideshow": {
     "slide_type": "slide"
    }
   },
   "source": [
    "<h1 align='center'> Thank You </h1>"
   ]
  }
 ],
 "metadata": {
  "celltoolbar": "Slideshow",
  "kernelspec": {
   "display_name": "Python 3",
   "language": "python",
   "name": "python3"
  },
  "language_info": {
   "codemirror_mode": {
    "name": "ipython",
    "version": 3
   },
   "file_extension": ".py",
   "mimetype": "text/x-python",
   "name": "python",
   "nbconvert_exporter": "python",
   "pygments_lexer": "ipython3",
   "version": "3.6.9"
  }
 },
 "nbformat": 4,
 "nbformat_minor": 2
}
